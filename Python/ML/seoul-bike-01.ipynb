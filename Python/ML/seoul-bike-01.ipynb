{
 "cells": [
  {
   "cell_type": "markdown",
   "metadata": {},
   "source": [
    "# 서울특별시 공공자전거 따릉이 대여이력 분석\n",
    "\n",
    "## 데이터 출처 :\n",
    "* 서울특별시 공공자전거 대여이력 정보\n",
    "http://data.seoul.go.kr/dataList/datasetView.do?infId=OA-15182&srvType=F&serviceKind=1&currentPageNo=1\n",
    "\n",
    "* `(이달의주요공개정보)_서울_공공자전거(따릉이)_이용현황 자료(161021).xlsx (1.24MB)`\n",
    "https://opengov.seoul.go.kr/anspruch/10045476\n",
    "\n",
    "\n",
    "## 관련자료 \n",
    "* [(석간) 서울시 따릉이 회원 62만 돌파 출 퇴근시간 38% 집중](http://spp.seoul.go.kr/main/news/news_report.jsp#view/253821)\n",
    "* [공공자전거 따릉이 인기 따라 '따세권' 형성…소외지역도 :: 공감언론 뉴시스통신사 ::](http://www.newsis.com/view/?id=NISX20180706_0000356247&cID=10201&pID=10200)\n",
    "* [서울특별시 빅데이터 캠퍼스 > 분석결과/사례공유 > 서울시 분석사례 > 서울시 자전거 이동경로 분석](https://bigdata.seoul.go.kr/noti/selectNoti.do?r_id=P430&bbs_seq=229&sch_type=&sch_text=&currentPage=1)\n",
    "* [따릉이 편리하게 이용하기 위한 14가지 | 서울시 정보소통광장(정보공개)](https://opengov.seoul.go.kr/mediahub/15085803)"
   ]
  },
  {
   "cell_type": "code",
   "execution_count": 1,
   "metadata": {},
   "outputs": [],
   "source": [
    "# 노트북이 간결해 보이도록 경고 문구는 출력되지 않도록 함\n",
    "# 프로그래밍에 익숙하다면 경고 문구도 출력해서 보도록 한다. \n",
    "# 하지만 익숙하지 않다면 당황하지 않기 위해 경고 메시지는 찍히지 않도록 한다.\n",
    "import warnings\n",
    "warnings.simplefilter(action='ignore', category=FutureWarning)"
   ]
  },
  {
   "cell_type": "markdown",
   "metadata": {},
   "source": [
    "## 사용할 도구 가져오기"
   ]
  },
  {
   "cell_type": "code",
   "execution_count": 3,
   "metadata": {},
   "outputs": [],
   "source": [
    "#!pip install plotnine"
   ]
  },
  {
   "cell_type": "code",
   "execution_count": 3,
   "metadata": {},
   "outputs": [],
   "source": [
    "import pandas as pd\n",
    "import numpy as np\n",
    "from plotnine import *\n",
    "\n",
    "\n",
    "# 그래프가 노트북 안에 보이게 하기 위해\n",
    "%matplotlib inline"
   ]
  },
  {
   "cell_type": "markdown",
   "metadata": {},
   "source": [
    "## 데이터 불러오기\n",
    "* 서울시정보소통광장에서 다운로드 받은 csv파일과 크롤링해온 대여소 정보가 있다.\n",
    "* 이 노트북에서는 전체 데이터 중 일부 데이터만을 사용해서 특정 시기의 데이터만 분석해 보고 점점 더 큰 데이터를 불러와 보도록 한다."
   ]
  },
  {
   "cell_type": "code",
   "execution_count": 5,
   "metadata": {},
   "outputs": [
    {
     "name": "stdout",
     "output_type": "stream",
     "text": [
      " C 드라이브의 볼륨에는 이름이 없습니다.\n",
      " 볼륨 일련 번호: 9E10-4823\n",
      "\n",
      " C:\\01python\\data_science\\data\\seoul_bike 디렉터리\n",
      "\n",
      "2018-12-20  오전 08:46    <DIR>          .\n",
      "2018-12-20  오전 08:46    <DIR>          ..\n",
      "2018-12-17  오전 04:01           190,636 bike_rent_station.csv\n",
      "2018-12-18  오전 11:53        98,207,163 서울특별시 공공자전거 대여이력 정보_2018년_1분기1.csv\n",
      "2018-12-18  오전 11:53        84,976,795 서울특별시 공공자전거 대여이력 정보_2018년_2분기_1.csv\n",
      "2018-12-18  오전 11:52       119,418,810 서울특별시 공공자전거 대여이력 정보_2018년_2분기_2.csv\n",
      "2018-12-18  오전 11:53        71,135,025 서울특별시 공공자전거 대여이력 정보_2018년_2분기_3.csv\n",
      "2018-12-18  오전 11:52        73,556,846 서울특별시 공공자전거 대여이력 정보_2018년_2분기_4.csv\n",
      "               6개 파일         447,485,275 바이트\n",
      "               2개 디렉터리  87,544,213,504 바이트 남음\n"
     ]
    }
   ],
   "source": [
    "%ls data\\seoul_bike"
   ]
  },
  {
   "cell_type": "code",
   "execution_count": 7,
   "metadata": {},
   "outputs": [
    {
     "data": {
      "text/plain": [
       "(586304, 11)"
      ]
     },
     "execution_count": 7,
     "metadata": {},
     "output_type": "execute_result"
    }
   ],
   "source": [
    "df = pd.read_csv('data/seoul_bike/서울특별시 공공자전거 대여이력 정보_2018년_2분기_4.csv', encoding='cp949',engine='python')\n",
    "# 2018년 2분기까지의 데이터를 보고 싶다면 아래 파일을 불러온다.\n",
    "# df = pd.read_csv('data/seoul-bike-2018.csv')\n",
    "df.shape"
   ]
  },
  {
   "cell_type": "markdown",
   "metadata": {},
   "source": [
    "## 데이터 미리보기 및 요약하기\n",
    "* head와 tail을 통해 데이터 미리보기를 해볼 수 있다.\n",
    "* head는 데이터의 윗부분을 tail은 데이터의 하단부를 미리보기 해준다. \n",
    "* 괄호안에 숫자를 넣어주면 해당 숫자만큼의 데이터를 가져온다. 기본값은 5이다."
   ]
  },
  {
   "cell_type": "code",
   "execution_count": 8,
   "metadata": {},
   "outputs": [
    {
     "data": {
      "text/html": [
       "<div>\n",
       "<style scoped>\n",
       "    .dataframe tbody tr th:only-of-type {\n",
       "        vertical-align: middle;\n",
       "    }\n",
       "\n",
       "    .dataframe tbody tr th {\n",
       "        vertical-align: top;\n",
       "    }\n",
       "\n",
       "    .dataframe thead th {\n",
       "        text-align: right;\n",
       "    }\n",
       "</style>\n",
       "<table border=\"1\" class=\"dataframe\">\n",
       "  <thead>\n",
       "    <tr style=\"text-align: right;\">\n",
       "      <th></th>\n",
       "      <th>'자전거번호'</th>\n",
       "      <th>'대여일시'</th>\n",
       "      <th>'대여대여소번호'</th>\n",
       "      <th>'대여대여소명'</th>\n",
       "      <th>'대여거치대'</th>\n",
       "      <th>'반납일시'</th>\n",
       "      <th>'반납대여소번호'</th>\n",
       "      <th>'반납대여소명'</th>\n",
       "      <th>'반납거치대'</th>\n",
       "      <th>'이용시간(분)'</th>\n",
       "      <th>'이용거리(M)'</th>\n",
       "    </tr>\n",
       "  </thead>\n",
       "  <tbody>\n",
       "    <tr>\n",
       "      <th>0</th>\n",
       "      <td>'SPB-11906'</td>\n",
       "      <td>'2018-06-16 00:00:07'</td>\n",
       "      <td>'932'</td>\n",
       "      <td>' 예일여중'</td>\n",
       "      <td>1</td>\n",
       "      <td>'2018-06-16 00:16:41'</td>\n",
       "      <td>'934'</td>\n",
       "      <td>' 신사동 성당'</td>\n",
       "      <td>11</td>\n",
       "      <td>15</td>\n",
       "      <td>2160</td>\n",
       "    </tr>\n",
       "    <tr>\n",
       "      <th>1</th>\n",
       "      <td>'SPB-16954'</td>\n",
       "      <td>'2018-06-16 00:00:07'</td>\n",
       "      <td>'272'</td>\n",
       "      <td>' 당산육갑문'</td>\n",
       "      <td>16</td>\n",
       "      <td>'2018-06-16 02:00:36'</td>\n",
       "      <td>'1827'</td>\n",
       "      <td>' 독산보도육교 앞 자전거 보관소'</td>\n",
       "      <td>9</td>\n",
       "      <td>120</td>\n",
       "      <td>18100</td>\n",
       "    </tr>\n",
       "    <tr>\n",
       "      <th>2</th>\n",
       "      <td>'SPB-09676'</td>\n",
       "      <td>'2018-06-16 00:00:11'</td>\n",
       "      <td>'1036'</td>\n",
       "      <td>' 고덕동 주양쇼핑'</td>\n",
       "      <td>7</td>\n",
       "      <td>'2018-06-16 00:24:05'</td>\n",
       "      <td>'1038'</td>\n",
       "      <td>' 강일 다솜 어린이 공원'</td>\n",
       "      <td>9</td>\n",
       "      <td>23</td>\n",
       "      <td>3350</td>\n",
       "    </tr>\n",
       "    <tr>\n",
       "      <th>3</th>\n",
       "      <td>'SPB-07143'</td>\n",
       "      <td>'2018-06-16 00:00:15'</td>\n",
       "      <td>'1726'</td>\n",
       "      <td>' 삼익세라믹아파트교차로'</td>\n",
       "      <td>7</td>\n",
       "      <td>'2018-06-16 00:15:31'</td>\n",
       "      <td>'1706'</td>\n",
       "      <td>' 기업은행 앞'</td>\n",
       "      <td>9</td>\n",
       "      <td>14</td>\n",
       "      <td>1480</td>\n",
       "    </tr>\n",
       "    <tr>\n",
       "      <th>4</th>\n",
       "      <td>'SPB-13007'</td>\n",
       "      <td>'2018-06-16 00:00:16'</td>\n",
       "      <td>'2058'</td>\n",
       "      <td>' 노량진동 맥도널드앞'</td>\n",
       "      <td>10</td>\n",
       "      <td>'2018-06-16 00:14:25'</td>\n",
       "      <td>'258'</td>\n",
       "      <td>' 신길역3번출구'</td>\n",
       "      <td>8</td>\n",
       "      <td>13</td>\n",
       "      <td>2920</td>\n",
       "    </tr>\n",
       "  </tbody>\n",
       "</table>\n",
       "</div>"
      ],
      "text/plain": [
       "       '자전거번호'                 '대여일시' '대여대여소번호'        '대여대여소명'  '대여거치대'  \\\n",
       "0  'SPB-11906'  '2018-06-16 00:00:07'     '932'         ' 예일여중'        1   \n",
       "1  'SPB-16954'  '2018-06-16 00:00:07'     '272'        ' 당산육갑문'       16   \n",
       "2  'SPB-09676'  '2018-06-16 00:00:11'    '1036'     ' 고덕동 주양쇼핑'        7   \n",
       "3  'SPB-07143'  '2018-06-16 00:00:15'    '1726'  ' 삼익세라믹아파트교차로'        7   \n",
       "4  'SPB-13007'  '2018-06-16 00:00:16'    '2058'   ' 노량진동 맥도널드앞'       10   \n",
       "\n",
       "                  '반납일시' '반납대여소번호'             '반납대여소명'  '반납거치대'  '이용시간(분)'  \\\n",
       "0  '2018-06-16 00:16:41'     '934'            ' 신사동 성당'       11         15   \n",
       "1  '2018-06-16 02:00:36'    '1827'  ' 독산보도육교 앞 자전거 보관소'        9        120   \n",
       "2  '2018-06-16 00:24:05'    '1038'      ' 강일 다솜 어린이 공원'        9         23   \n",
       "3  '2018-06-16 00:15:31'    '1706'            ' 기업은행 앞'        9         14   \n",
       "4  '2018-06-16 00:14:25'     '258'           ' 신길역3번출구'        8         13   \n",
       "\n",
       "   '이용거리(M)'  \n",
       "0       2160  \n",
       "1      18100  \n",
       "2       3350  \n",
       "3       1480  \n",
       "4       2920  "
      ]
     },
     "execution_count": 8,
     "metadata": {},
     "output_type": "execute_result"
    }
   ],
   "source": [
    "df.head()"
   ]
  },
  {
   "cell_type": "code",
   "execution_count": 9,
   "metadata": {},
   "outputs": [
    {
     "data": {
      "text/html": [
       "<div>\n",
       "<style scoped>\n",
       "    .dataframe tbody tr th:only-of-type {\n",
       "        vertical-align: middle;\n",
       "    }\n",
       "\n",
       "    .dataframe tbody tr th {\n",
       "        vertical-align: top;\n",
       "    }\n",
       "\n",
       "    .dataframe thead th {\n",
       "        text-align: right;\n",
       "    }\n",
       "</style>\n",
       "<table border=\"1\" class=\"dataframe\">\n",
       "  <thead>\n",
       "    <tr style=\"text-align: right;\">\n",
       "      <th></th>\n",
       "      <th>'자전거번호'</th>\n",
       "      <th>'대여일시'</th>\n",
       "      <th>'대여대여소번호'</th>\n",
       "      <th>'대여대여소명'</th>\n",
       "      <th>'대여거치대'</th>\n",
       "      <th>'반납일시'</th>\n",
       "      <th>'반납대여소번호'</th>\n",
       "      <th>'반납대여소명'</th>\n",
       "      <th>'반납거치대'</th>\n",
       "      <th>'이용시간(분)'</th>\n",
       "      <th>'이용거리(M)'</th>\n",
       "    </tr>\n",
       "  </thead>\n",
       "  <tbody>\n",
       "    <tr>\n",
       "      <th>586299</th>\n",
       "      <td>'SPB-15985'</td>\n",
       "      <td>'2018-06-30 23:59:55'</td>\n",
       "      <td>'505'</td>\n",
       "      <td>' 자양사거리 광진아크로텔 앞'</td>\n",
       "      <td>9</td>\n",
       "      <td>'2018-07-01 00:09:38'</td>\n",
       "      <td>'593'</td>\n",
       "      <td>'자양중앙나들목'</td>\n",
       "      <td>5</td>\n",
       "      <td>9</td>\n",
       "      <td>1230</td>\n",
       "    </tr>\n",
       "    <tr>\n",
       "      <th>586300</th>\n",
       "      <td>'SPB-15081'</td>\n",
       "      <td>'2018-06-30 23:59:55'</td>\n",
       "      <td>'1328'</td>\n",
       "      <td>' 월곡역 3번출구'</td>\n",
       "      <td>7</td>\n",
       "      <td>'2018-07-01 00:18:02'</td>\n",
       "      <td>'647'</td>\n",
       "      <td>' 신이문역 1번출구'</td>\n",
       "      <td>7</td>\n",
       "      <td>17</td>\n",
       "      <td>3600</td>\n",
       "    </tr>\n",
       "    <tr>\n",
       "      <th>586301</th>\n",
       "      <td>'SPB-13677'</td>\n",
       "      <td>'2018-06-30 23:59:57'</td>\n",
       "      <td>'2376'</td>\n",
       "      <td>' 수서역 6번출구 앞'</td>\n",
       "      <td>2</td>\n",
       "      <td>'2018-07-01 00:20:38'</td>\n",
       "      <td>'2387'</td>\n",
       "      <td>' 래미안강남힐즈 사거리'</td>\n",
       "      <td>5</td>\n",
       "      <td>20</td>\n",
       "      <td>2590</td>\n",
       "    </tr>\n",
       "    <tr>\n",
       "      <th>586302</th>\n",
       "      <td>'SPB-06577'</td>\n",
       "      <td>'2018-06-30 23:59:57'</td>\n",
       "      <td>'1251'</td>\n",
       "      <td>' 석촌역 2번출구'</td>\n",
       "      <td>2</td>\n",
       "      <td>'2018-07-01 00:57:29'</td>\n",
       "      <td>'1245'</td>\n",
       "      <td>' 문정 법조단지9'</td>\n",
       "      <td>4</td>\n",
       "      <td>57</td>\n",
       "      <td>6640</td>\n",
       "    </tr>\n",
       "    <tr>\n",
       "      <th>586303</th>\n",
       "      <td>'SPB-03842'</td>\n",
       "      <td>'2018-06-30 23:59:58'</td>\n",
       "      <td>'2169'</td>\n",
       "      <td>' 봉천역 2번출구'</td>\n",
       "      <td>6</td>\n",
       "      <td>'2018-07-01 00:08:05'</td>\n",
       "      <td>'2112'</td>\n",
       "      <td>' 서울대입구역 마에스트로'</td>\n",
       "      <td>7</td>\n",
       "      <td>7</td>\n",
       "      <td>910</td>\n",
       "    </tr>\n",
       "  </tbody>\n",
       "</table>\n",
       "</div>"
      ],
      "text/plain": [
       "            '자전거번호'                 '대여일시' '대여대여소번호'           '대여대여소명'  \\\n",
       "586299  'SPB-15985'  '2018-06-30 23:59:55'     '505'  ' 자양사거리 광진아크로텔 앞'   \n",
       "586300  'SPB-15081'  '2018-06-30 23:59:55'    '1328'        ' 월곡역 3번출구'   \n",
       "586301  'SPB-13677'  '2018-06-30 23:59:57'    '2376'      ' 수서역 6번출구 앞'   \n",
       "586302  'SPB-06577'  '2018-06-30 23:59:57'    '1251'        ' 석촌역 2번출구'   \n",
       "586303  'SPB-03842'  '2018-06-30 23:59:58'    '2169'        ' 봉천역 2번출구'   \n",
       "\n",
       "        '대여거치대'                 '반납일시' '반납대여소번호'         '반납대여소명'  '반납거치대'  \\\n",
       "586299        9  '2018-07-01 00:09:38'     '593'        '자양중앙나들목'        5   \n",
       "586300        7  '2018-07-01 00:18:02'     '647'     ' 신이문역 1번출구'        7   \n",
       "586301        2  '2018-07-01 00:20:38'    '2387'   ' 래미안강남힐즈 사거리'        5   \n",
       "586302        2  '2018-07-01 00:57:29'    '1245'      ' 문정 법조단지9'        4   \n",
       "586303        6  '2018-07-01 00:08:05'    '2112'  ' 서울대입구역 마에스트로'        7   \n",
       "\n",
       "        '이용시간(분)'  '이용거리(M)'  \n",
       "586299          9       1230  \n",
       "586300         17       3600  \n",
       "586301         20       2590  \n",
       "586302         57       6640  \n",
       "586303          7        910  "
      ]
     },
     "execution_count": 9,
     "metadata": {},
     "output_type": "execute_result"
    }
   ],
   "source": [
    "df.tail()"
   ]
  },
  {
   "cell_type": "markdown",
   "metadata": {},
   "source": [
    "* info를 사용하면 해당 데이터의 요약정보를 볼 수 있다.\n",
    "* 데이터의 갯수와 데이터의 타입, 크기 등을 볼 수 있다."
   ]
  },
  {
   "cell_type": "code",
   "execution_count": 10,
   "metadata": {},
   "outputs": [
    {
     "name": "stdout",
     "output_type": "stream",
     "text": [
      "<class 'pandas.core.frame.DataFrame'>\n",
      "RangeIndex: 586304 entries, 0 to 586303\n",
      "Data columns (total 11 columns):\n",
      "'자전거번호'      586304 non-null object\n",
      "'대여일시'       586304 non-null object\n",
      "'대여대여소번호'    586304 non-null object\n",
      "'대여대여소명'     586304 non-null object\n",
      "'대여거치대'      586304 non-null int64\n",
      "'반납일시'       586304 non-null object\n",
      "'반납대여소번호'    586304 non-null object\n",
      "'반납대여소명'     586304 non-null object\n",
      "'반납거치대'      586304 non-null int64\n",
      "'이용시간(분)'    586304 non-null int64\n",
      "'이용거리(M)'    586304 non-null int64\n",
      "dtypes: int64(4), object(7)\n",
      "memory usage: 49.2+ MB\n"
     ]
    }
   ],
   "source": [
    "df.info()"
   ]
  },
  {
   "cell_type": "code",
   "execution_count": 11,
   "metadata": {},
   "outputs": [
    {
     "data": {
      "text/html": [
       "<div>\n",
       "<style scoped>\n",
       "    .dataframe tbody tr th:only-of-type {\n",
       "        vertical-align: middle;\n",
       "    }\n",
       "\n",
       "    .dataframe tbody tr th {\n",
       "        vertical-align: top;\n",
       "    }\n",
       "\n",
       "    .dataframe thead th {\n",
       "        text-align: right;\n",
       "    }\n",
       "</style>\n",
       "<table border=\"1\" class=\"dataframe\">\n",
       "  <thead>\n",
       "    <tr style=\"text-align: right;\">\n",
       "      <th></th>\n",
       "      <th>'대여거치대'</th>\n",
       "      <th>'반납거치대'</th>\n",
       "      <th>'이용시간(분)'</th>\n",
       "      <th>'이용거리(M)'</th>\n",
       "    </tr>\n",
       "  </thead>\n",
       "  <tbody>\n",
       "    <tr>\n",
       "      <th>count</th>\n",
       "      <td>586304.000000</td>\n",
       "      <td>586304.000000</td>\n",
       "      <td>586304.000000</td>\n",
       "      <td>586304.000000</td>\n",
       "    </tr>\n",
       "    <tr>\n",
       "      <th>mean</th>\n",
       "      <td>6.981460</td>\n",
       "      <td>6.939248</td>\n",
       "      <td>28.922530</td>\n",
       "      <td>4712.563602</td>\n",
       "    </tr>\n",
       "    <tr>\n",
       "      <th>std</th>\n",
       "      <td>5.217671</td>\n",
       "      <td>5.196975</td>\n",
       "      <td>30.866556</td>\n",
       "      <td>9003.052657</td>\n",
       "    </tr>\n",
       "    <tr>\n",
       "      <th>min</th>\n",
       "      <td>1.000000</td>\n",
       "      <td>1.000000</td>\n",
       "      <td>2.000000</td>\n",
       "      <td>0.000000</td>\n",
       "    </tr>\n",
       "    <tr>\n",
       "      <th>25%</th>\n",
       "      <td>3.000000</td>\n",
       "      <td>3.000000</td>\n",
       "      <td>9.000000</td>\n",
       "      <td>1320.000000</td>\n",
       "    </tr>\n",
       "    <tr>\n",
       "      <th>50%</th>\n",
       "      <td>6.000000</td>\n",
       "      <td>6.000000</td>\n",
       "      <td>18.000000</td>\n",
       "      <td>2530.000000</td>\n",
       "    </tr>\n",
       "    <tr>\n",
       "      <th>75%</th>\n",
       "      <td>10.000000</td>\n",
       "      <td>10.000000</td>\n",
       "      <td>40.000000</td>\n",
       "      <td>5290.000000</td>\n",
       "    </tr>\n",
       "    <tr>\n",
       "      <th>max</th>\n",
       "      <td>40.000000</td>\n",
       "      <td>40.000000</td>\n",
       "      <td>4320.000000</td>\n",
       "      <td>255070.000000</td>\n",
       "    </tr>\n",
       "  </tbody>\n",
       "</table>\n",
       "</div>"
      ],
      "text/plain": [
       "             '대여거치대'        '반납거치대'      '이용시간(분)'      '이용거리(M)'\n",
       "count  586304.000000  586304.000000  586304.000000  586304.000000\n",
       "mean        6.981460       6.939248      28.922530    4712.563602\n",
       "std         5.217671       5.196975      30.866556    9003.052657\n",
       "min         1.000000       1.000000       2.000000       0.000000\n",
       "25%         3.000000       3.000000       9.000000    1320.000000\n",
       "50%         6.000000       6.000000      18.000000    2530.000000\n",
       "75%        10.000000      10.000000      40.000000    5290.000000\n",
       "max        40.000000      40.000000    4320.000000  255070.000000"
      ]
     },
     "execution_count": 11,
     "metadata": {},
     "output_type": "execute_result"
    }
   ],
   "source": [
    "df.describe()"
   ]
  },
  {
   "cell_type": "code",
   "execution_count": 12,
   "metadata": {},
   "outputs": [
    {
     "data": {
      "text/html": [
       "<div>\n",
       "<style scoped>\n",
       "    .dataframe tbody tr th:only-of-type {\n",
       "        vertical-align: middle;\n",
       "    }\n",
       "\n",
       "    .dataframe tbody tr th {\n",
       "        vertical-align: top;\n",
       "    }\n",
       "\n",
       "    .dataframe thead th {\n",
       "        text-align: right;\n",
       "    }\n",
       "</style>\n",
       "<table border=\"1\" class=\"dataframe\">\n",
       "  <thead>\n",
       "    <tr style=\"text-align: right;\">\n",
       "      <th></th>\n",
       "      <th>'자전거번호'</th>\n",
       "      <th>'대여일시'</th>\n",
       "      <th>'대여대여소번호'</th>\n",
       "      <th>'대여대여소명'</th>\n",
       "      <th>'반납일시'</th>\n",
       "      <th>'반납대여소번호'</th>\n",
       "      <th>'반납대여소명'</th>\n",
       "    </tr>\n",
       "  </thead>\n",
       "  <tbody>\n",
       "    <tr>\n",
       "      <th>count</th>\n",
       "      <td>586304</td>\n",
       "      <td>586304</td>\n",
       "      <td>586304</td>\n",
       "      <td>586304</td>\n",
       "      <td>586304</td>\n",
       "      <td>586304</td>\n",
       "      <td>586304</td>\n",
       "    </tr>\n",
       "    <tr>\n",
       "      <th>unique</th>\n",
       "      <td>12970</td>\n",
       "      <td>426750</td>\n",
       "      <td>1267</td>\n",
       "      <td>1267</td>\n",
       "      <td>427833</td>\n",
       "      <td>1269</td>\n",
       "      <td>1269</td>\n",
       "    </tr>\n",
       "    <tr>\n",
       "      <th>top</th>\n",
       "      <td>'SPB-18238'</td>\n",
       "      <td>'2018-06-18 18:56:44'</td>\n",
       "      <td>'207'</td>\n",
       "      <td>' 여의나루역 1번출구 앞'</td>\n",
       "      <td>'2018-06-19 19:53:32'</td>\n",
       "      <td>'113'</td>\n",
       "      <td>' 홍대입구역 2번출구 앞'</td>\n",
       "    </tr>\n",
       "    <tr>\n",
       "      <th>freq</th>\n",
       "      <td>139</td>\n",
       "      <td>42</td>\n",
       "      <td>4073</td>\n",
       "      <td>4073</td>\n",
       "      <td>18</td>\n",
       "      <td>3896</td>\n",
       "      <td>3896</td>\n",
       "    </tr>\n",
       "  </tbody>\n",
       "</table>\n",
       "</div>"
      ],
      "text/plain": [
       "            '자전거번호'                 '대여일시' '대여대여소번호'         '대여대여소명'  \\\n",
       "count        586304                 586304    586304           586304   \n",
       "unique        12970                 426750      1267             1267   \n",
       "top     'SPB-18238'  '2018-06-18 18:56:44'     '207'  ' 여의나루역 1번출구 앞'   \n",
       "freq            139                     42      4073             4073   \n",
       "\n",
       "                       '반납일시' '반납대여소번호'         '반납대여소명'  \n",
       "count                  586304    586304           586304  \n",
       "unique                 427833      1269             1269  \n",
       "top     '2018-06-19 19:53:32'     '113'  ' 홍대입구역 2번출구 앞'  \n",
       "freq                       18      3896             3896  "
      ]
     },
     "execution_count": 12,
     "metadata": {},
     "output_type": "execute_result"
    }
   ],
   "source": [
    "df.describe(include=np.object)"
   ]
  },
  {
   "cell_type": "markdown",
   "metadata": {},
   "source": [
    "## 분석을 위한 전처리\n",
    "* 위에서 데이터를 미리보기 했을 때 컬럼과 데이터에 불필요한 홑따옴표가 포함되어 있다.\n",
    "* 전처리를 통해 제거해 준다.\n",
    "* object 타입의 데이터에는 모두 홑따옴표가 들어가 있다. 따라서 object 데이터 타입이라면 홑따옴표를 제거해 주도록 한다."
   ]
  },
  {
   "cell_type": "code",
   "execution_count": 13,
   "metadata": {},
   "outputs": [],
   "source": [
    "# 컬럼에 있는 '를 제거한다.\n",
    "df.columns = df.columns.str.strip(\"'\")"
   ]
  },
  {
   "cell_type": "code",
   "execution_count": 14,
   "metadata": {},
   "outputs": [
    {
     "data": {
      "text/html": [
       "<div>\n",
       "<style scoped>\n",
       "    .dataframe tbody tr th:only-of-type {\n",
       "        vertical-align: middle;\n",
       "    }\n",
       "\n",
       "    .dataframe tbody tr th {\n",
       "        vertical-align: top;\n",
       "    }\n",
       "\n",
       "    .dataframe thead th {\n",
       "        text-align: right;\n",
       "    }\n",
       "</style>\n",
       "<table border=\"1\" class=\"dataframe\">\n",
       "  <thead>\n",
       "    <tr style=\"text-align: right;\">\n",
       "      <th></th>\n",
       "      <th>자전거번호</th>\n",
       "      <th>대여일시</th>\n",
       "      <th>대여대여소번호</th>\n",
       "      <th>대여대여소명</th>\n",
       "      <th>대여거치대</th>\n",
       "      <th>반납일시</th>\n",
       "      <th>반납대여소번호</th>\n",
       "      <th>반납대여소명</th>\n",
       "      <th>반납거치대</th>\n",
       "      <th>이용시간(분)</th>\n",
       "      <th>이용거리(M)</th>\n",
       "    </tr>\n",
       "  </thead>\n",
       "  <tbody>\n",
       "    <tr>\n",
       "      <th>0</th>\n",
       "      <td>'SPB-11906'</td>\n",
       "      <td>'2018-06-16 00:00:07'</td>\n",
       "      <td>'932'</td>\n",
       "      <td>' 예일여중'</td>\n",
       "      <td>1</td>\n",
       "      <td>'2018-06-16 00:16:41'</td>\n",
       "      <td>'934'</td>\n",
       "      <td>' 신사동 성당'</td>\n",
       "      <td>11</td>\n",
       "      <td>15</td>\n",
       "      <td>2160</td>\n",
       "    </tr>\n",
       "  </tbody>\n",
       "</table>\n",
       "</div>"
      ],
      "text/plain": [
       "         자전거번호                   대여일시 대여대여소번호   대여대여소명  대여거치대  \\\n",
       "0  'SPB-11906'  '2018-06-16 00:00:07'   '932'  ' 예일여중'      1   \n",
       "\n",
       "                    반납일시 반납대여소번호     반납대여소명  반납거치대  이용시간(분)  이용거리(M)  \n",
       "0  '2018-06-16 00:16:41'   '934'  ' 신사동 성당'     11       15     2160  "
      ]
     },
     "execution_count": 14,
     "metadata": {},
     "output_type": "execute_result"
    }
   ],
   "source": [
    "df.head(1)"
   ]
  },
  {
   "cell_type": "code",
   "execution_count": 16,
   "metadata": {},
   "outputs": [],
   "source": [
    "# 불필요하게 '가 들어가 있다. 스트링 타입으로 되어있는 데이터에서 '을 제거하자.\n",
    "df = df.apply(lambda x: x.str.strip(\"'\") if x.dtype == np.dtype('object') else x)\n",
    "\n",
    "# 다음의 방법으로 제거할 수도 있다.\n",
    "# df.iloc[:, :4] = df.iloc[:, :4].apply(lambda x: x.str.strip(\"'\"))\n",
    "# df.iloc[:, 5:8] = df.iloc[:, 5:8].apply(lambda x: x.str.strip(\"'\"))"
   ]
  },
  {
   "cell_type": "code",
   "execution_count": 17,
   "metadata": {},
   "outputs": [
    {
     "data": {
      "text/html": [
       "<div>\n",
       "<style scoped>\n",
       "    .dataframe tbody tr th:only-of-type {\n",
       "        vertical-align: middle;\n",
       "    }\n",
       "\n",
       "    .dataframe tbody tr th {\n",
       "        vertical-align: top;\n",
       "    }\n",
       "\n",
       "    .dataframe thead th {\n",
       "        text-align: right;\n",
       "    }\n",
       "</style>\n",
       "<table border=\"1\" class=\"dataframe\">\n",
       "  <thead>\n",
       "    <tr style=\"text-align: right;\">\n",
       "      <th></th>\n",
       "      <th>자전거번호</th>\n",
       "      <th>대여일시</th>\n",
       "      <th>대여대여소번호</th>\n",
       "      <th>대여대여소명</th>\n",
       "      <th>대여거치대</th>\n",
       "      <th>반납일시</th>\n",
       "      <th>반납대여소번호</th>\n",
       "      <th>반납대여소명</th>\n",
       "      <th>반납거치대</th>\n",
       "      <th>이용시간(분)</th>\n",
       "      <th>이용거리(M)</th>\n",
       "    </tr>\n",
       "  </thead>\n",
       "  <tbody>\n",
       "    <tr>\n",
       "      <th>0</th>\n",
       "      <td>SPB-11906</td>\n",
       "      <td>2018-06-16 00:00:07</td>\n",
       "      <td>932</td>\n",
       "      <td>예일여중</td>\n",
       "      <td>1</td>\n",
       "      <td>2018-06-16 00:16:41</td>\n",
       "      <td>934</td>\n",
       "      <td>신사동 성당</td>\n",
       "      <td>11</td>\n",
       "      <td>15</td>\n",
       "      <td>2160</td>\n",
       "    </tr>\n",
       "    <tr>\n",
       "      <th>1</th>\n",
       "      <td>SPB-16954</td>\n",
       "      <td>2018-06-16 00:00:07</td>\n",
       "      <td>272</td>\n",
       "      <td>당산육갑문</td>\n",
       "      <td>16</td>\n",
       "      <td>2018-06-16 02:00:36</td>\n",
       "      <td>1827</td>\n",
       "      <td>독산보도육교 앞 자전거 보관소</td>\n",
       "      <td>9</td>\n",
       "      <td>120</td>\n",
       "      <td>18100</td>\n",
       "    </tr>\n",
       "    <tr>\n",
       "      <th>2</th>\n",
       "      <td>SPB-09676</td>\n",
       "      <td>2018-06-16 00:00:11</td>\n",
       "      <td>1036</td>\n",
       "      <td>고덕동 주양쇼핑</td>\n",
       "      <td>7</td>\n",
       "      <td>2018-06-16 00:24:05</td>\n",
       "      <td>1038</td>\n",
       "      <td>강일 다솜 어린이 공원</td>\n",
       "      <td>9</td>\n",
       "      <td>23</td>\n",
       "      <td>3350</td>\n",
       "    </tr>\n",
       "    <tr>\n",
       "      <th>3</th>\n",
       "      <td>SPB-07143</td>\n",
       "      <td>2018-06-16 00:00:15</td>\n",
       "      <td>1726</td>\n",
       "      <td>삼익세라믹아파트교차로</td>\n",
       "      <td>7</td>\n",
       "      <td>2018-06-16 00:15:31</td>\n",
       "      <td>1706</td>\n",
       "      <td>기업은행 앞</td>\n",
       "      <td>9</td>\n",
       "      <td>14</td>\n",
       "      <td>1480</td>\n",
       "    </tr>\n",
       "    <tr>\n",
       "      <th>4</th>\n",
       "      <td>SPB-13007</td>\n",
       "      <td>2018-06-16 00:00:16</td>\n",
       "      <td>2058</td>\n",
       "      <td>노량진동 맥도널드앞</td>\n",
       "      <td>10</td>\n",
       "      <td>2018-06-16 00:14:25</td>\n",
       "      <td>258</td>\n",
       "      <td>신길역3번출구</td>\n",
       "      <td>8</td>\n",
       "      <td>13</td>\n",
       "      <td>2920</td>\n",
       "    </tr>\n",
       "  </tbody>\n",
       "</table>\n",
       "</div>"
      ],
      "text/plain": [
       "       자전거번호                 대여일시 대여대여소번호        대여대여소명  대여거치대  \\\n",
       "0  SPB-11906  2018-06-16 00:00:07     932          예일여중      1   \n",
       "1  SPB-16954  2018-06-16 00:00:07     272         당산육갑문     16   \n",
       "2  SPB-09676  2018-06-16 00:00:11    1036      고덕동 주양쇼핑      7   \n",
       "3  SPB-07143  2018-06-16 00:00:15    1726   삼익세라믹아파트교차로      7   \n",
       "4  SPB-13007  2018-06-16 00:00:16    2058    노량진동 맥도널드앞     10   \n",
       "\n",
       "                  반납일시 반납대여소번호             반납대여소명  반납거치대  이용시간(분)  이용거리(M)  \n",
       "0  2018-06-16 00:16:41     934             신사동 성당     11       15     2160  \n",
       "1  2018-06-16 02:00:36    1827   독산보도육교 앞 자전거 보관소      9      120    18100  \n",
       "2  2018-06-16 00:24:05    1038       강일 다솜 어린이 공원      9       23     3350  \n",
       "3  2018-06-16 00:15:31    1706             기업은행 앞      9       14     1480  \n",
       "4  2018-06-16 00:14:25     258            신길역3번출구      8       13     2920  "
      ]
     },
     "execution_count": 17,
     "metadata": {},
     "output_type": "execute_result"
    }
   ],
   "source": [
    "df.head()"
   ]
  },
  {
   "cell_type": "code",
   "execution_count": 18,
   "metadata": {},
   "outputs": [
    {
     "data": {
      "text/html": [
       "<div>\n",
       "<style scoped>\n",
       "    .dataframe tbody tr th:only-of-type {\n",
       "        vertical-align: middle;\n",
       "    }\n",
       "\n",
       "    .dataframe tbody tr th {\n",
       "        vertical-align: top;\n",
       "    }\n",
       "\n",
       "    .dataframe thead th {\n",
       "        text-align: right;\n",
       "    }\n",
       "</style>\n",
       "<table border=\"1\" class=\"dataframe\">\n",
       "  <thead>\n",
       "    <tr style=\"text-align: right;\">\n",
       "      <th></th>\n",
       "      <th>자전거번호</th>\n",
       "      <th>대여일시</th>\n",
       "      <th>대여대여소번호</th>\n",
       "      <th>대여대여소명</th>\n",
       "      <th>대여거치대</th>\n",
       "      <th>반납일시</th>\n",
       "      <th>반납대여소번호</th>\n",
       "      <th>반납대여소명</th>\n",
       "      <th>반납거치대</th>\n",
       "      <th>이용시간(분)</th>\n",
       "      <th>이용거리(M)</th>\n",
       "    </tr>\n",
       "  </thead>\n",
       "  <tbody>\n",
       "    <tr>\n",
       "      <th>586299</th>\n",
       "      <td>SPB-15985</td>\n",
       "      <td>2018-06-30 23:59:55</td>\n",
       "      <td>505</td>\n",
       "      <td>자양사거리 광진아크로텔 앞</td>\n",
       "      <td>9</td>\n",
       "      <td>2018-07-01 00:09:38</td>\n",
       "      <td>593</td>\n",
       "      <td>자양중앙나들목</td>\n",
       "      <td>5</td>\n",
       "      <td>9</td>\n",
       "      <td>1230</td>\n",
       "    </tr>\n",
       "    <tr>\n",
       "      <th>586300</th>\n",
       "      <td>SPB-15081</td>\n",
       "      <td>2018-06-30 23:59:55</td>\n",
       "      <td>1328</td>\n",
       "      <td>월곡역 3번출구</td>\n",
       "      <td>7</td>\n",
       "      <td>2018-07-01 00:18:02</td>\n",
       "      <td>647</td>\n",
       "      <td>신이문역 1번출구</td>\n",
       "      <td>7</td>\n",
       "      <td>17</td>\n",
       "      <td>3600</td>\n",
       "    </tr>\n",
       "    <tr>\n",
       "      <th>586301</th>\n",
       "      <td>SPB-13677</td>\n",
       "      <td>2018-06-30 23:59:57</td>\n",
       "      <td>2376</td>\n",
       "      <td>수서역 6번출구 앞</td>\n",
       "      <td>2</td>\n",
       "      <td>2018-07-01 00:20:38</td>\n",
       "      <td>2387</td>\n",
       "      <td>래미안강남힐즈 사거리</td>\n",
       "      <td>5</td>\n",
       "      <td>20</td>\n",
       "      <td>2590</td>\n",
       "    </tr>\n",
       "    <tr>\n",
       "      <th>586302</th>\n",
       "      <td>SPB-06577</td>\n",
       "      <td>2018-06-30 23:59:57</td>\n",
       "      <td>1251</td>\n",
       "      <td>석촌역 2번출구</td>\n",
       "      <td>2</td>\n",
       "      <td>2018-07-01 00:57:29</td>\n",
       "      <td>1245</td>\n",
       "      <td>문정 법조단지9</td>\n",
       "      <td>4</td>\n",
       "      <td>57</td>\n",
       "      <td>6640</td>\n",
       "    </tr>\n",
       "    <tr>\n",
       "      <th>586303</th>\n",
       "      <td>SPB-03842</td>\n",
       "      <td>2018-06-30 23:59:58</td>\n",
       "      <td>2169</td>\n",
       "      <td>봉천역 2번출구</td>\n",
       "      <td>6</td>\n",
       "      <td>2018-07-01 00:08:05</td>\n",
       "      <td>2112</td>\n",
       "      <td>서울대입구역 마에스트로</td>\n",
       "      <td>7</td>\n",
       "      <td>7</td>\n",
       "      <td>910</td>\n",
       "    </tr>\n",
       "  </tbody>\n",
       "</table>\n",
       "</div>"
      ],
      "text/plain": [
       "            자전거번호                 대여일시 대여대여소번호           대여대여소명  대여거치대  \\\n",
       "586299  SPB-15985  2018-06-30 23:59:55     505   자양사거리 광진아크로텔 앞      9   \n",
       "586300  SPB-15081  2018-06-30 23:59:55    1328         월곡역 3번출구      7   \n",
       "586301  SPB-13677  2018-06-30 23:59:57    2376       수서역 6번출구 앞      2   \n",
       "586302  SPB-06577  2018-06-30 23:59:57    1251         석촌역 2번출구      2   \n",
       "586303  SPB-03842  2018-06-30 23:59:58    2169         봉천역 2번출구      6   \n",
       "\n",
       "                       반납일시 반납대여소번호         반납대여소명  반납거치대  이용시간(분)  이용거리(M)  \n",
       "586299  2018-07-01 00:09:38     593        자양중앙나들목      5        9     1230  \n",
       "586300  2018-07-01 00:18:02     647      신이문역 1번출구      7       17     3600  \n",
       "586301  2018-07-01 00:20:38    2387    래미안강남힐즈 사거리      5       20     2590  \n",
       "586302  2018-07-01 00:57:29    1245       문정 법조단지9      4       57     6640  \n",
       "586303  2018-07-01 00:08:05    2112   서울대입구역 마에스트로      7        7      910  "
      ]
     },
     "execution_count": 18,
     "metadata": {},
     "output_type": "execute_result"
    }
   ],
   "source": [
    "df.tail()"
   ]
  },
  {
   "cell_type": "code",
   "execution_count": 19,
   "metadata": {},
   "outputs": [
    {
     "name": "stdout",
     "output_type": "stream",
     "text": [
      "<class 'pandas.core.frame.DataFrame'>\n",
      "RangeIndex: 586304 entries, 0 to 586303\n",
      "Data columns (total 11 columns):\n",
      "자전거번호      586304 non-null object\n",
      "대여일시       586304 non-null object\n",
      "대여대여소번호    586304 non-null object\n",
      "대여대여소명     586304 non-null object\n",
      "대여거치대      586304 non-null int64\n",
      "반납일시       586304 non-null object\n",
      "반납대여소번호    586304 non-null object\n",
      "반납대여소명     586304 non-null object\n",
      "반납거치대      586304 non-null int64\n",
      "이용시간(분)    586304 non-null int64\n",
      "이용거리(M)    586304 non-null int64\n",
      "dtypes: int64(4), object(7)\n",
      "memory usage: 49.2+ MB\n"
     ]
    }
   ],
   "source": [
    "df.info()"
   ]
  },
  {
   "cell_type": "code",
   "execution_count": 20,
   "metadata": {},
   "outputs": [
    {
     "data": {
      "text/html": [
       "<div>\n",
       "<style scoped>\n",
       "    .dataframe tbody tr th:only-of-type {\n",
       "        vertical-align: middle;\n",
       "    }\n",
       "\n",
       "    .dataframe tbody tr th {\n",
       "        vertical-align: top;\n",
       "    }\n",
       "\n",
       "    .dataframe thead th {\n",
       "        text-align: right;\n",
       "    }\n",
       "</style>\n",
       "<table border=\"1\" class=\"dataframe\">\n",
       "  <thead>\n",
       "    <tr style=\"text-align: right;\">\n",
       "      <th></th>\n",
       "      <th>자전거번호</th>\n",
       "      <th>대여일시</th>\n",
       "      <th>대여대여소번호</th>\n",
       "      <th>대여대여소명</th>\n",
       "      <th>반납일시</th>\n",
       "      <th>반납대여소번호</th>\n",
       "      <th>반납대여소명</th>\n",
       "    </tr>\n",
       "  </thead>\n",
       "  <tbody>\n",
       "    <tr>\n",
       "      <th>count</th>\n",
       "      <td>586304</td>\n",
       "      <td>586304</td>\n",
       "      <td>586304</td>\n",
       "      <td>586304</td>\n",
       "      <td>586304</td>\n",
       "      <td>586304</td>\n",
       "      <td>586304</td>\n",
       "    </tr>\n",
       "    <tr>\n",
       "      <th>unique</th>\n",
       "      <td>12970</td>\n",
       "      <td>426750</td>\n",
       "      <td>1267</td>\n",
       "      <td>1267</td>\n",
       "      <td>427833</td>\n",
       "      <td>1269</td>\n",
       "      <td>1269</td>\n",
       "    </tr>\n",
       "    <tr>\n",
       "      <th>top</th>\n",
       "      <td>SPB-18238</td>\n",
       "      <td>2018-06-18 18:56:44</td>\n",
       "      <td>207</td>\n",
       "      <td>여의나루역 1번출구 앞</td>\n",
       "      <td>2018-06-19 19:53:32</td>\n",
       "      <td>113</td>\n",
       "      <td>홍대입구역 2번출구 앞</td>\n",
       "    </tr>\n",
       "    <tr>\n",
       "      <th>freq</th>\n",
       "      <td>139</td>\n",
       "      <td>42</td>\n",
       "      <td>4073</td>\n",
       "      <td>4073</td>\n",
       "      <td>18</td>\n",
       "      <td>3896</td>\n",
       "      <td>3896</td>\n",
       "    </tr>\n",
       "  </tbody>\n",
       "</table>\n",
       "</div>"
      ],
      "text/plain": [
       "            자전거번호                 대여일시 대여대여소번호         대여대여소명  \\\n",
       "count      586304               586304  586304         586304   \n",
       "unique      12970               426750    1267           1267   \n",
       "top     SPB-18238  2018-06-18 18:56:44     207   여의나루역 1번출구 앞   \n",
       "freq          139                   42    4073           4073   \n",
       "\n",
       "                       반납일시 반납대여소번호         반납대여소명  \n",
       "count                586304  586304         586304  \n",
       "unique               427833    1269           1269  \n",
       "top     2018-06-19 19:53:32     113   홍대입구역 2번출구 앞  \n",
       "freq                     18    3896           3896  "
      ]
     },
     "execution_count": 20,
     "metadata": {},
     "output_type": "execute_result"
    }
   ],
   "source": [
    "df.describe(include=np.object)"
   ]
  },
  {
   "cell_type": "markdown",
   "metadata": {},
   "source": [
    "## 결측치 보기"
   ]
  },
  {
   "cell_type": "code",
   "execution_count": 21,
   "metadata": {},
   "outputs": [
    {
     "data": {
      "text/plain": [
       "자전거번호      0\n",
       "대여일시       0\n",
       "대여대여소번호    0\n",
       "대여대여소명     0\n",
       "대여거치대      0\n",
       "반납일시       0\n",
       "반납대여소번호    0\n",
       "반납대여소명     0\n",
       "반납거치대      0\n",
       "이용시간(분)    0\n",
       "이용거리(M)    0\n",
       "dtype: int64"
      ]
     },
     "execution_count": 21,
     "metadata": {},
     "output_type": "execute_result"
    }
   ],
   "source": [
    "df.isnull().sum()"
   ]
  },
  {
   "cell_type": "markdown",
   "metadata": {},
   "source": [
    "## 결측치 시각화 하기\n",
    "* missingno는 별도로 설치해야 하는 시각화 도구 입니다. 결측치를 시각화해서 볼 수 있습니다."
   ]
  },
  {
   "cell_type": "code",
   "execution_count": null,
   "metadata": {},
   "outputs": [],
   "source": []
  },
  {
   "cell_type": "code",
   "execution_count": 79,
   "metadata": {},
   "outputs": [],
   "source": [
    "# 결측치 보기\n",
    "# import missingno as msno\n",
    "\n",
    "# msno.matrix(df, figsize=(12,5))"
   ]
  },
  {
   "cell_type": "markdown",
   "metadata": {},
   "source": [
    "## 대여소별 대여|반납 현황"
   ]
  },
  {
   "cell_type": "code",
   "execution_count": 22,
   "metadata": {},
   "outputs": [
    {
     "data": {
      "text/plain": [
       "1267"
      ]
     },
     "execution_count": 22,
     "metadata": {},
     "output_type": "execute_result"
    }
   ],
   "source": [
    "df['대여대여소번호'].unique().shape[0]"
   ]
  },
  {
   "cell_type": "code",
   "execution_count": 23,
   "metadata": {},
   "outputs": [
    {
     "name": "stdout",
     "output_type": "stream",
     "text": [
      "# 대여소 수\n",
      "대여 대여소:  1267\n",
      "반납 대여소:  1269\n"
     ]
    }
   ],
   "source": [
    "print('# 대여소 수')\n",
    "print('대여 대여소: ', df['대여대여소번호'].unique().shape[0])\n",
    "print('반납 대여소: ', df['반납대여소번호'].unique().shape[0])"
   ]
  },
  {
   "cell_type": "code",
   "execution_count": 24,
   "metadata": {},
   "outputs": [
    {
     "data": {
      "text/plain": [
       "2343        39\n",
       "1101        38\n",
       "2288        29\n",
       "741         27\n",
       "2275        26\n",
       "1040        25\n",
       "2287        21\n",
       "2286        16\n",
       "상암센터 정비실     8\n",
       "554          5\n",
       "Name: 대여대여소번호, dtype: int64"
      ]
     },
     "execution_count": 24,
     "metadata": {},
     "output_type": "execute_result"
    }
   ],
   "source": [
    "df['대여대여소번호'].value_counts().tail(10)"
   ]
  },
  {
   "cell_type": "markdown",
   "metadata": {},
   "source": [
    "* 대여 대여소번호에 상암센터 정비실과 위트콤 같은 숫자가 아닌 곳들이 있음"
   ]
  },
  {
   "cell_type": "code",
   "execution_count": 25,
   "metadata": {},
   "outputs": [
    {
     "data": {
      "text/plain": [
       " 여의나루역 1번출구 앞               4073\n",
       " 뚝섬유원지역 1번출구 앞              3369\n",
       " 홍대입구역 2번출구 앞               3174\n",
       " 봉림교 교통섬                    2709\n",
       " 롯데월드타워(잠실역2번출구 쪽)          2637\n",
       " 고속터미널역 8-1번, 8-2번 출구 사이    2453\n",
       " 마포구민체육센터 앞                 2178\n",
       " 신도림역 1번 출구 앞               2022\n",
       " 안암로터리 버스정류장 앞              1987\n",
       " 잠실새내역 5번 출구 뒤              1841\n",
       "Name: 대여대여소명, dtype: int64"
      ]
     },
     "execution_count": 25,
     "metadata": {},
     "output_type": "execute_result"
    }
   ],
   "source": [
    "# 대여량이 많은 상위 대여소\n",
    "df['대여대여소명'].value_counts().head(10)"
   ]
  },
  {
   "cell_type": "code",
   "execution_count": 26,
   "metadata": {},
   "outputs": [
    {
     "data": {
      "text/plain": [
       " 홍대입구역 2번출구 앞               3896\n",
       " 뚝섬유원지역 1번출구 앞              3814\n",
       " 여의나루역 1번출구 앞               3730\n",
       " 봉림교 교통섬                    2762\n",
       " 롯데월드타워(잠실역2번출구 쪽)          2624\n",
       " 고속터미널역 8-1번, 8-2번 출구 사이    2495\n",
       " 마포구민체육센터 앞                 2454\n",
       " 안암로터리 버스정류장 앞              2110\n",
       " 신도림역 1번 출구 앞               1961\n",
       " CJ 드림시티                    1932\n",
       "Name: 반납대여소명, dtype: int64"
      ]
     },
     "execution_count": 26,
     "metadata": {},
     "output_type": "execute_result"
    }
   ],
   "source": [
    "# 반납량이 많은 상위 대여소\n",
    "df['반납대여소명'].value_counts().head(10)"
   ]
  },
  {
   "cell_type": "markdown",
   "metadata": {},
   "source": [
    "1. 대여반납이 많은 상위 대여소인 홍대입구역, 여의나루역, 뚝섬유원지, 롯데월드타워는 모두 강이나 호수를 인근에 두고 있다. \n",
    "2. 성대입구나 안암로터리 버스정류장은 대학가 인근이다."
   ]
  },
  {
   "cell_type": "code",
   "execution_count": 27,
   "metadata": {},
   "outputs": [
    {
     "data": {
      "text/html": [
       "<div>\n",
       "<style scoped>\n",
       "    .dataframe tbody tr th:only-of-type {\n",
       "        vertical-align: middle;\n",
       "    }\n",
       "\n",
       "    .dataframe tbody tr th {\n",
       "        vertical-align: top;\n",
       "    }\n",
       "\n",
       "    .dataframe thead th {\n",
       "        text-align: right;\n",
       "    }\n",
       "</style>\n",
       "<table border=\"1\" class=\"dataframe\">\n",
       "  <thead>\n",
       "    <tr style=\"text-align: right;\">\n",
       "      <th></th>\n",
       "      <th>대여대여소명</th>\n",
       "      <th>이용거리(M)</th>\n",
       "    </tr>\n",
       "  </thead>\n",
       "  <tbody>\n",
       "    <tr>\n",
       "      <th>353</th>\n",
       "      <td>동작역 5번출구 동작주차공원</td>\n",
       "      <td>10454.240000</td>\n",
       "    </tr>\n",
       "    <tr>\n",
       "      <th>330</th>\n",
       "      <td>독산보도육교 앞 자전거 보관소</td>\n",
       "      <td>10401.840607</td>\n",
       "    </tr>\n",
       "    <tr>\n",
       "      <th>810</th>\n",
       "      <td>신한은행 시흥대로금융센터지점</td>\n",
       "      <td>9857.738095</td>\n",
       "    </tr>\n",
       "    <tr>\n",
       "      <th>280</th>\n",
       "      <td>달맞이공원</td>\n",
       "      <td>9639.504950</td>\n",
       "    </tr>\n",
       "    <tr>\n",
       "      <th>1166</th>\n",
       "      <td>한내근린공원 남측</td>\n",
       "      <td>9419.090909</td>\n",
       "    </tr>\n",
       "    <tr>\n",
       "      <th>1197</th>\n",
       "      <td>현대자동차서비스 앞</td>\n",
       "      <td>9364.282178</td>\n",
       "    </tr>\n",
       "    <tr>\n",
       "      <th>419</th>\n",
       "      <td>망원초록길 입구</td>\n",
       "      <td>9160.294118</td>\n",
       "    </tr>\n",
       "    <tr>\n",
       "      <th>1194</th>\n",
       "      <td>현대고등학교 건너편</td>\n",
       "      <td>9047.614350</td>\n",
       "    </tr>\n",
       "    <tr>\n",
       "      <th>1231</th>\n",
       "      <td>흑석역 1번출구</td>\n",
       "      <td>8938.909300</td>\n",
       "    </tr>\n",
       "    <tr>\n",
       "      <th>1113</th>\n",
       "      <td>청계천 생태교실 앞</td>\n",
       "      <td>8923.918819</td>\n",
       "    </tr>\n",
       "    <tr>\n",
       "      <th>93</th>\n",
       "      <td>개화동상사마을종점 버스정류장</td>\n",
       "      <td>8872.368421</td>\n",
       "    </tr>\n",
       "    <tr>\n",
       "      <th>1164</th>\n",
       "      <td>한남나들목 입구</td>\n",
       "      <td>8749.508427</td>\n",
       "    </tr>\n",
       "    <tr>\n",
       "      <th>932</th>\n",
       "      <td>우리은행 금호동 지점 앞</td>\n",
       "      <td>8734.536082</td>\n",
       "    </tr>\n",
       "    <tr>\n",
       "      <th>908</th>\n",
       "      <td>옥수역 3번출구</td>\n",
       "      <td>8711.132940</td>\n",
       "    </tr>\n",
       "    <tr>\n",
       "      <th>1210</th>\n",
       "      <td>홍은사거리</td>\n",
       "      <td>8702.532866</td>\n",
       "    </tr>\n",
       "    <tr>\n",
       "      <th>502</th>\n",
       "      <td>번3동 주민센터 교차로</td>\n",
       "      <td>8651.989529</td>\n",
       "    </tr>\n",
       "    <tr>\n",
       "      <th>1173</th>\n",
       "      <td>한신아파트 앞 육교 아래</td>\n",
       "      <td>8582.500000</td>\n",
       "    </tr>\n",
       "    <tr>\n",
       "      <th>1222</th>\n",
       "      <td>황금내근린공원</td>\n",
       "      <td>8559.622412</td>\n",
       "    </tr>\n",
       "    <tr>\n",
       "      <th>1163</th>\n",
       "      <td>한남 유수지 복개주차장</td>\n",
       "      <td>8556.633416</td>\n",
       "    </tr>\n",
       "    <tr>\n",
       "      <th>583</th>\n",
       "      <td>상림마을 롯데캐슬2단지 옆</td>\n",
       "      <td>8428.837209</td>\n",
       "    </tr>\n",
       "    <tr>\n",
       "      <th>1232</th>\n",
       "      <td>흑석역 4번출구</td>\n",
       "      <td>8406.929825</td>\n",
       "    </tr>\n",
       "    <tr>\n",
       "      <th>320</th>\n",
       "      <td>도봉산광역환승센터앞</td>\n",
       "      <td>8319.754902</td>\n",
       "    </tr>\n",
       "    <tr>\n",
       "      <th>627</th>\n",
       "      <td>서빙고동 주민센터 앞</td>\n",
       "      <td>8291.677917</td>\n",
       "    </tr>\n",
       "    <tr>\n",
       "      <th>138</th>\n",
       "      <td>관악동작견인차량보관소</td>\n",
       "      <td>8282.102273</td>\n",
       "    </tr>\n",
       "    <tr>\n",
       "      <th>329</th>\n",
       "      <td>독산근린공원 입구</td>\n",
       "      <td>8162.261146</td>\n",
       "    </tr>\n",
       "    <tr>\n",
       "      <th>1172</th>\n",
       "      <td>한신16차아파트 119동 앞</td>\n",
       "      <td>8156.974063</td>\n",
       "    </tr>\n",
       "    <tr>\n",
       "      <th>857</th>\n",
       "      <td>여의도중학교 옆</td>\n",
       "      <td>8117.844828</td>\n",
       "    </tr>\n",
       "    <tr>\n",
       "      <th>87</th>\n",
       "      <td>강일동 에너지 마루</td>\n",
       "      <td>8089.600000</td>\n",
       "    </tr>\n",
       "    <tr>\n",
       "      <th>480</th>\n",
       "      <td>반포1동 주민센터 앞</td>\n",
       "      <td>8041.623377</td>\n",
       "    </tr>\n",
       "    <tr>\n",
       "      <th>317</th>\n",
       "      <td>도봉구청 옆(중랑천변)</td>\n",
       "      <td>8024.782609</td>\n",
       "    </tr>\n",
       "    <tr>\n",
       "      <th>...</th>\n",
       "      <td>...</td>\n",
       "      <td>...</td>\n",
       "    </tr>\n",
       "    <tr>\n",
       "      <th>57</th>\n",
       "      <td>가오리역</td>\n",
       "      <td>2820.975610</td>\n",
       "    </tr>\n",
       "    <tr>\n",
       "      <th>661</th>\n",
       "      <td>서울시여성가족재단</td>\n",
       "      <td>2786.214099</td>\n",
       "    </tr>\n",
       "    <tr>\n",
       "      <th>392</th>\n",
       "      <td>마곡수명산파크3단지 교차로</td>\n",
       "      <td>2772.806748</td>\n",
       "    </tr>\n",
       "    <tr>\n",
       "      <th>1014</th>\n",
       "      <td>장안동위더스빌옆</td>\n",
       "      <td>2768.375635</td>\n",
       "    </tr>\n",
       "    <tr>\n",
       "      <th>340</th>\n",
       "      <td>동대문중 교차로</td>\n",
       "      <td>2753.950617</td>\n",
       "    </tr>\n",
       "    <tr>\n",
       "      <th>503</th>\n",
       "      <td>번동 금호어울림아파트102동앞</td>\n",
       "      <td>2750.000000</td>\n",
       "    </tr>\n",
       "    <tr>\n",
       "      <th>101</th>\n",
       "      <td>건국대학교 학생회관</td>\n",
       "      <td>2748.111228</td>\n",
       "    </tr>\n",
       "    <tr>\n",
       "      <th>1135</th>\n",
       "      <td>탑성마을입구</td>\n",
       "      <td>2740.625000</td>\n",
       "    </tr>\n",
       "    <tr>\n",
       "      <th>962</th>\n",
       "      <td>은평뉴타운 도서관</td>\n",
       "      <td>2732.372263</td>\n",
       "    </tr>\n",
       "    <tr>\n",
       "      <th>963</th>\n",
       "      <td>은평뉴타운 아이파크</td>\n",
       "      <td>2713.348416</td>\n",
       "    </tr>\n",
       "    <tr>\n",
       "      <th>669</th>\n",
       "      <td>서울역사박물관 앞</td>\n",
       "      <td>2699.165247</td>\n",
       "    </tr>\n",
       "    <tr>\n",
       "      <th>530</th>\n",
       "      <td>북성초교</td>\n",
       "      <td>2696.255924</td>\n",
       "    </tr>\n",
       "    <tr>\n",
       "      <th>1265</th>\n",
       "      <td>청계산입구역 1번출구</td>\n",
       "      <td>2695.479705</td>\n",
       "    </tr>\n",
       "    <tr>\n",
       "      <th>1091</th>\n",
       "      <td>창경궁 입구</td>\n",
       "      <td>2684.838710</td>\n",
       "    </tr>\n",
       "    <tr>\n",
       "      <th>714</th>\n",
       "      <td>세운스퀘어 앞</td>\n",
       "      <td>2676.677852</td>\n",
       "    </tr>\n",
       "    <tr>\n",
       "      <th>133</th>\n",
       "      <td>공항초등학교건너편</td>\n",
       "      <td>2662.371134</td>\n",
       "    </tr>\n",
       "    <tr>\n",
       "      <th>1044</th>\n",
       "      <td>종로4가 사거리</td>\n",
       "      <td>2655.618632</td>\n",
       "    </tr>\n",
       "    <tr>\n",
       "      <th>671</th>\n",
       "      <td>서울연신초등학교</td>\n",
       "      <td>2636.555024</td>\n",
       "    </tr>\n",
       "    <tr>\n",
       "      <th>68</th>\n",
       "      <td>강동구청역 1번 출입구</td>\n",
       "      <td>2619.404762</td>\n",
       "    </tr>\n",
       "    <tr>\n",
       "      <th>331</th>\n",
       "      <td>독산역 1번출구 앞 자전거보관소</td>\n",
       "      <td>2590.857988</td>\n",
       "    </tr>\n",
       "    <tr>\n",
       "      <th>641</th>\n",
       "      <td>서울보증보험본사 앞</td>\n",
       "      <td>2588.011928</td>\n",
       "    </tr>\n",
       "    <tr>\n",
       "      <th>939</th>\n",
       "      <td>원묵고등학교</td>\n",
       "      <td>2563.861111</td>\n",
       "    </tr>\n",
       "    <tr>\n",
       "      <th>40</th>\n",
       "      <td>SK telecom(수유직영점) 앞</td>\n",
       "      <td>2496.626506</td>\n",
       "    </tr>\n",
       "    <tr>\n",
       "      <th>700</th>\n",
       "      <td>성북제일새마을금고 본점 앞</td>\n",
       "      <td>2416.977778</td>\n",
       "    </tr>\n",
       "    <tr>\n",
       "      <th>584</th>\n",
       "      <td>상림마을 생태공원</td>\n",
       "      <td>2405.736041</td>\n",
       "    </tr>\n",
       "    <tr>\n",
       "      <th>937</th>\n",
       "      <td>원남동사거리</td>\n",
       "      <td>2234.752294</td>\n",
       "    </tr>\n",
       "    <tr>\n",
       "      <th>100</th>\n",
       "      <td>건국대학교 과학관(이과대) 앞</td>\n",
       "      <td>2143.065327</td>\n",
       "    </tr>\n",
       "    <tr>\n",
       "      <th>7</th>\n",
       "      <td>CJ오쇼핑앞</td>\n",
       "      <td>1832.727273</td>\n",
       "    </tr>\n",
       "    <tr>\n",
       "      <th>188</th>\n",
       "      <td>국군복지단</td>\n",
       "      <td>1828.244275</td>\n",
       "    </tr>\n",
       "    <tr>\n",
       "      <th>1249</th>\n",
       "      <td>상암센터 정비실</td>\n",
       "      <td>256.250000</td>\n",
       "    </tr>\n",
       "  </tbody>\n",
       "</table>\n",
       "<p>1267 rows × 2 columns</p>\n",
       "</div>"
      ],
      "text/plain": [
       "                    대여대여소명       이용거리(M)\n",
       "353        동작역 5번출구 동작주차공원  10454.240000\n",
       "330       독산보도육교 앞 자전거 보관소  10401.840607\n",
       "810        신한은행 시흥대로금융센터지점   9857.738095\n",
       "280                  달맞이공원   9639.504950\n",
       "1166             한내근린공원 남측   9419.090909\n",
       "1197            현대자동차서비스 앞   9364.282178\n",
       "419               망원초록길 입구   9160.294118\n",
       "1194            현대고등학교 건너편   9047.614350\n",
       "1231              흑석역 1번출구   8938.909300\n",
       "1113            청계천 생태교실 앞   8923.918819\n",
       "93         개화동상사마을종점 버스정류장   8872.368421\n",
       "1164              한남나들목 입구   8749.508427\n",
       "932          우리은행 금호동 지점 앞   8734.536082\n",
       "908               옥수역 3번출구   8711.132940\n",
       "1210                 홍은사거리   8702.532866\n",
       "502           번3동 주민센터 교차로   8651.989529\n",
       "1173         한신아파트 앞 육교 아래   8582.500000\n",
       "1222               황금내근린공원   8559.622412\n",
       "1163          한남 유수지 복개주차장   8556.633416\n",
       "583         상림마을 롯데캐슬2단지 옆   8428.837209\n",
       "1232              흑석역 4번출구   8406.929825\n",
       "320            도봉산광역환승센터앞    8319.754902\n",
       "627            서빙고동 주민센터 앞   8291.677917\n",
       "138            관악동작견인차량보관소   8282.102273\n",
       "329              독산근린공원 입구   8162.261146\n",
       "1172       한신16차아파트 119동 앞   8156.974063\n",
       "857               여의도중학교 옆   8117.844828\n",
       "87              강일동 에너지 마루   8089.600000\n",
       "480            반포1동 주민센터 앞   8041.623377\n",
       "317           도봉구청 옆(중랑천변)   8024.782609\n",
       "...                    ...           ...\n",
       "57                    가오리역   2820.975610\n",
       "661              서울시여성가족재단   2786.214099\n",
       "392         마곡수명산파크3단지 교차로   2772.806748\n",
       "1014              장안동위더스빌옆   2768.375635\n",
       "340               동대문중 교차로   2753.950617\n",
       "503       번동 금호어울림아파트102동앞   2750.000000\n",
       "101             건국대학교 학생회관   2748.111228\n",
       "1135                탑성마을입구   2740.625000\n",
       "962              은평뉴타운 도서관   2732.372263\n",
       "963             은평뉴타운 아이파크   2713.348416\n",
       "669              서울역사박물관 앞   2699.165247\n",
       "530                   북성초교   2696.255924\n",
       "1265           청계산입구역 1번출구   2695.479705\n",
       "1091                창경궁 입구   2684.838710\n",
       "714                세운스퀘어 앞   2676.677852\n",
       "133              공항초등학교건너편   2662.371134\n",
       "1044              종로4가 사거리   2655.618632\n",
       "671               서울연신초등학교   2636.555024\n",
       "68            강동구청역 1번 출입구   2619.404762\n",
       "331      독산역 1번출구 앞 자전거보관소   2590.857988\n",
       "641             서울보증보험본사 앞   2588.011928\n",
       "939                 원묵고등학교   2563.861111\n",
       "40     SK telecom(수유직영점) 앞   2496.626506\n",
       "700         성북제일새마을금고 본점 앞   2416.977778\n",
       "584              상림마을 생태공원   2405.736041\n",
       "937                 원남동사거리   2234.752294\n",
       "100       건국대학교 과학관(이과대) 앞   2143.065327\n",
       "7                   CJ오쇼핑앞   1832.727273\n",
       "188                  국군복지단   1828.244275\n",
       "1249              상암센터 정비실    256.250000\n",
       "\n",
       "[1267 rows x 2 columns]"
      ]
     },
     "execution_count": 27,
     "metadata": {},
     "output_type": "execute_result"
    }
   ],
   "source": [
    "df.groupby(['대여대여소명'])['이용거리(M)'].mean().reset_index().sort_values(by='이용거리(M)', ascending=False)"
   ]
  },
  {
   "cell_type": "code",
   "execution_count": 29,
   "metadata": {},
   "outputs": [
    {
     "data": {
      "text/html": [
       "<div>\n",
       "<style scoped>\n",
       "    .dataframe tbody tr th:only-of-type {\n",
       "        vertical-align: middle;\n",
       "    }\n",
       "\n",
       "    .dataframe tbody tr th {\n",
       "        vertical-align: top;\n",
       "    }\n",
       "\n",
       "    .dataframe thead th {\n",
       "        text-align: right;\n",
       "    }\n",
       "</style>\n",
       "<table border=\"1\" class=\"dataframe\">\n",
       "  <thead>\n",
       "    <tr style=\"text-align: right;\">\n",
       "      <th></th>\n",
       "      <th>대여대여소명</th>\n",
       "      <th>이용거리(M)</th>\n",
       "    </tr>\n",
       "  </thead>\n",
       "  <tbody>\n",
       "    <tr>\n",
       "      <th>353</th>\n",
       "      <td>동작역 5번출구 동작주차공원</td>\n",
       "      <td>10454.240000</td>\n",
       "    </tr>\n",
       "    <tr>\n",
       "      <th>330</th>\n",
       "      <td>독산보도육교 앞 자전거 보관소</td>\n",
       "      <td>10401.840607</td>\n",
       "    </tr>\n",
       "    <tr>\n",
       "      <th>810</th>\n",
       "      <td>신한은행 시흥대로금융센터지점</td>\n",
       "      <td>9857.738095</td>\n",
       "    </tr>\n",
       "    <tr>\n",
       "      <th>280</th>\n",
       "      <td>달맞이공원</td>\n",
       "      <td>9639.504950</td>\n",
       "    </tr>\n",
       "    <tr>\n",
       "      <th>1166</th>\n",
       "      <td>한내근린공원 남측</td>\n",
       "      <td>9419.090909</td>\n",
       "    </tr>\n",
       "    <tr>\n",
       "      <th>1197</th>\n",
       "      <td>현대자동차서비스 앞</td>\n",
       "      <td>9364.282178</td>\n",
       "    </tr>\n",
       "    <tr>\n",
       "      <th>419</th>\n",
       "      <td>망원초록길 입구</td>\n",
       "      <td>9160.294118</td>\n",
       "    </tr>\n",
       "    <tr>\n",
       "      <th>1194</th>\n",
       "      <td>현대고등학교 건너편</td>\n",
       "      <td>9047.614350</td>\n",
       "    </tr>\n",
       "    <tr>\n",
       "      <th>1231</th>\n",
       "      <td>흑석역 1번출구</td>\n",
       "      <td>8938.909300</td>\n",
       "    </tr>\n",
       "    <tr>\n",
       "      <th>1113</th>\n",
       "      <td>청계천 생태교실 앞</td>\n",
       "      <td>8923.918819</td>\n",
       "    </tr>\n",
       "  </tbody>\n",
       "</table>\n",
       "</div>"
      ],
      "text/plain": [
       "                 대여대여소명       이용거리(M)\n",
       "353     동작역 5번출구 동작주차공원  10454.240000\n",
       "330    독산보도육교 앞 자전거 보관소  10401.840607\n",
       "810     신한은행 시흥대로금융센터지점   9857.738095\n",
       "280               달맞이공원   9639.504950\n",
       "1166          한내근린공원 남측   9419.090909\n",
       "1197         현대자동차서비스 앞   9364.282178\n",
       "419            망원초록길 입구   9160.294118\n",
       "1194         현대고등학교 건너편   9047.614350\n",
       "1231           흑석역 1번출구   8938.909300\n",
       "1113         청계천 생태교실 앞   8923.918819"
      ]
     },
     "execution_count": 29,
     "metadata": {},
     "output_type": "execute_result"
    }
   ],
   "source": [
    "# 평균 이용거리가 긴 상위 대여소 \n",
    "# df.groupby(['대여대여소명'])['이용거리(M)'].mean() 의 결과는 Series객체이지만 reset_index()를 하면 DataFrame이 된다.\n",
    "df.groupby(['대여대여소명'])['이용거리(M)'].mean().reset_index().sort_values(by='이용거리(M)', ascending=False).head(10)"
   ]
  },
  {
   "cell_type": "code",
   "execution_count": 30,
   "metadata": {},
   "outputs": [
    {
     "data": {
      "text/html": [
       "<div>\n",
       "<style scoped>\n",
       "    .dataframe tbody tr th:only-of-type {\n",
       "        vertical-align: middle;\n",
       "    }\n",
       "\n",
       "    .dataframe tbody tr th {\n",
       "        vertical-align: top;\n",
       "    }\n",
       "\n",
       "    .dataframe thead th {\n",
       "        text-align: right;\n",
       "    }\n",
       "</style>\n",
       "<table border=\"1\" class=\"dataframe\">\n",
       "  <thead>\n",
       "    <tr style=\"text-align: right;\">\n",
       "      <th></th>\n",
       "      <th>대여대여소명</th>\n",
       "      <th>이용거리(M)</th>\n",
       "    </tr>\n",
       "  </thead>\n",
       "  <tbody>\n",
       "    <tr>\n",
       "      <th>1249</th>\n",
       "      <td>상암센터 정비실</td>\n",
       "      <td>256.250000</td>\n",
       "    </tr>\n",
       "    <tr>\n",
       "      <th>188</th>\n",
       "      <td>국군복지단</td>\n",
       "      <td>1828.244275</td>\n",
       "    </tr>\n",
       "    <tr>\n",
       "      <th>7</th>\n",
       "      <td>CJ오쇼핑앞</td>\n",
       "      <td>1832.727273</td>\n",
       "    </tr>\n",
       "    <tr>\n",
       "      <th>100</th>\n",
       "      <td>건국대학교 과학관(이과대) 앞</td>\n",
       "      <td>2143.065327</td>\n",
       "    </tr>\n",
       "    <tr>\n",
       "      <th>937</th>\n",
       "      <td>원남동사거리</td>\n",
       "      <td>2234.752294</td>\n",
       "    </tr>\n",
       "  </tbody>\n",
       "</table>\n",
       "</div>"
      ],
      "text/plain": [
       "                 대여대여소명      이용거리(M)\n",
       "1249           상암센터 정비실   256.250000\n",
       "188               국군복지단  1828.244275\n",
       "7                CJ오쇼핑앞  1832.727273\n",
       "100    건국대학교 과학관(이과대) 앞  2143.065327\n",
       "937              원남동사거리  2234.752294"
      ]
     },
     "execution_count": 30,
     "metadata": {},
     "output_type": "execute_result"
    }
   ],
   "source": [
    "# 평균 이용거리가 짧은 대여소\n",
    "df.groupby(['대여대여소명'])['이용거리(M)'].mean().reset_index().sort_values(by='이용거리(M)', ascending=True).head()"
   ]
  },
  {
   "cell_type": "code",
   "execution_count": 31,
   "metadata": {},
   "outputs": [
    {
     "data": {
      "text/html": [
       "<div>\n",
       "<style scoped>\n",
       "    .dataframe tbody tr th:only-of-type {\n",
       "        vertical-align: middle;\n",
       "    }\n",
       "\n",
       "    .dataframe tbody tr th {\n",
       "        vertical-align: top;\n",
       "    }\n",
       "\n",
       "    .dataframe thead th {\n",
       "        text-align: right;\n",
       "    }\n",
       "</style>\n",
       "<table border=\"1\" class=\"dataframe\">\n",
       "  <thead>\n",
       "    <tr style=\"text-align: right;\">\n",
       "      <th></th>\n",
       "      <th>대여대여소명</th>\n",
       "      <th>이용시간(분)</th>\n",
       "    </tr>\n",
       "  </thead>\n",
       "  <tbody>\n",
       "    <tr>\n",
       "      <th>280</th>\n",
       "      <td>달맞이공원</td>\n",
       "      <td>59.782178</td>\n",
       "    </tr>\n",
       "    <tr>\n",
       "      <th>353</th>\n",
       "      <td>동작역 5번출구 동작주차공원</td>\n",
       "      <td>59.484000</td>\n",
       "    </tr>\n",
       "    <tr>\n",
       "      <th>93</th>\n",
       "      <td>개화동상사마을종점 버스정류장</td>\n",
       "      <td>55.500000</td>\n",
       "    </tr>\n",
       "    <tr>\n",
       "      <th>649</th>\n",
       "      <td>서울숲 남문 버스정류소 옆</td>\n",
       "      <td>55.495074</td>\n",
       "    </tr>\n",
       "    <tr>\n",
       "      <th>648</th>\n",
       "      <td>서울숲 관리사무소</td>\n",
       "      <td>55.492228</td>\n",
       "    </tr>\n",
       "  </tbody>\n",
       "</table>\n",
       "</div>"
      ],
      "text/plain": [
       "               대여대여소명    이용시간(분)\n",
       "280             달맞이공원  59.782178\n",
       "353   동작역 5번출구 동작주차공원  59.484000\n",
       "93    개화동상사마을종점 버스정류장  55.500000\n",
       "649    서울숲 남문 버스정류소 옆  55.495074\n",
       "648         서울숲 관리사무소  55.492228"
      ]
     },
     "execution_count": 31,
     "metadata": {},
     "output_type": "execute_result"
    }
   ],
   "source": [
    "# 평균 이용시간이 많은 상위 대여소\n",
    "df.groupby(['대여대여소명'])['이용시간(분)'].mean().reset_index().sort_values(by='이용시간(분)', ascending=False).head()"
   ]
  },
  {
   "cell_type": "code",
   "execution_count": 32,
   "metadata": {},
   "outputs": [
    {
     "data": {
      "text/html": [
       "<div>\n",
       "<style scoped>\n",
       "    .dataframe tbody tr th:only-of-type {\n",
       "        vertical-align: middle;\n",
       "    }\n",
       "\n",
       "    .dataframe tbody tr th {\n",
       "        vertical-align: top;\n",
       "    }\n",
       "\n",
       "    .dataframe thead th {\n",
       "        text-align: right;\n",
       "    }\n",
       "</style>\n",
       "<table border=\"1\" class=\"dataframe\">\n",
       "  <thead>\n",
       "    <tr style=\"text-align: right;\">\n",
       "      <th></th>\n",
       "      <th>대여대여소명</th>\n",
       "      <th>이용시간(분)</th>\n",
       "    </tr>\n",
       "  </thead>\n",
       "  <tbody>\n",
       "    <tr>\n",
       "      <th>7</th>\n",
       "      <td>CJ오쇼핑앞</td>\n",
       "      <td>11.416667</td>\n",
       "    </tr>\n",
       "    <tr>\n",
       "      <th>1249</th>\n",
       "      <td>상암센터 정비실</td>\n",
       "      <td>12.000000</td>\n",
       "    </tr>\n",
       "    <tr>\n",
       "      <th>188</th>\n",
       "      <td>국군복지단</td>\n",
       "      <td>12.022901</td>\n",
       "    </tr>\n",
       "    <tr>\n",
       "      <th>1089</th>\n",
       "      <td>참새공원(백곡경노당)</td>\n",
       "      <td>12.666667</td>\n",
       "    </tr>\n",
       "    <tr>\n",
       "      <th>575</th>\n",
       "      <td>삼일초등학교 인근</td>\n",
       "      <td>14.460274</td>\n",
       "    </tr>\n",
       "  </tbody>\n",
       "</table>\n",
       "</div>"
      ],
      "text/plain": [
       "            대여대여소명    이용시간(분)\n",
       "7           CJ오쇼핑앞  11.416667\n",
       "1249      상암센터 정비실  12.000000\n",
       "188          국군복지단  12.022901\n",
       "1089   참새공원(백곡경노당)  12.666667\n",
       "575      삼일초등학교 인근  14.460274"
      ]
     },
     "execution_count": 32,
     "metadata": {},
     "output_type": "execute_result"
    }
   ],
   "source": [
    "# 평균 이용시간이 적은 상위 대여소\n",
    "df.groupby(['대여대여소명'])['이용시간(분)'].mean().reset_index().sort_values(by='이용시간(분)', ascending=True).head()"
   ]
  },
  {
   "cell_type": "markdown",
   "metadata": {},
   "source": [
    "## 시계열 데이터 보기"
   ]
  },
  {
   "cell_type": "code",
   "execution_count": 33,
   "metadata": {},
   "outputs": [
    {
     "data": {
      "text/plain": [
       "자전거번호              object\n",
       "대여일시       datetime64[ns]\n",
       "대여대여소번호            object\n",
       "대여대여소명             object\n",
       "대여거치대               int64\n",
       "반납일시       datetime64[ns]\n",
       "반납대여소번호            object\n",
       "반납대여소명             object\n",
       "반납거치대               int64\n",
       "이용시간(분)             int64\n",
       "이용거리(M)             int64\n",
       "dtype: object"
      ]
     },
     "execution_count": 33,
     "metadata": {},
     "output_type": "execute_result"
    }
   ],
   "source": [
    "df['대여일시'] = pd.to_datetime(df['대여일시'])\n",
    "df['반납일시'] = pd.to_datetime(df['반납일시'])\n",
    "df.dtypes"
   ]
  },
  {
   "cell_type": "code",
   "execution_count": 34,
   "metadata": {},
   "outputs": [
    {
     "data": {
      "text/plain": [
       "Index(['자전거번호', '대여일시', '대여대여소번호', '대여대여소명', '대여거치대', '반납일시', '반납대여소번호',\n",
       "       '반납대여소명', '반납거치대', '이용시간(분)', '이용거리(M)', '대여년', '대여월', '대여일', '대여시',\n",
       "       '대여분', '대여요일'],\n",
       "      dtype='object')"
      ]
     },
     "execution_count": 34,
     "metadata": {},
     "output_type": "execute_result"
    }
   ],
   "source": [
    "df['대여년'] = df['대여일시'].dt.year\n",
    "df['대여월'] = df['대여일시'].dt.month\n",
    "df['대여일'] = df['대여일시'].dt.day\n",
    "df['대여시'] = df['대여일시'].dt.hour\n",
    "df['대여분'] = df['대여일시'].dt.minute\n",
    "df['대여요일'] = df['대여일시'].dt.dayofweek\n",
    "df.columns"
   ]
  },
  {
   "cell_type": "code",
   "execution_count": 35,
   "metadata": {},
   "outputs": [
    {
     "data": {
      "text/plain": [
       "Index(['자전거번호', '대여일시', '대여대여소번호', '대여대여소명', '대여거치대', '반납일시', '반납대여소번호',\n",
       "       '반납대여소명', '반납거치대', '이용시간(분)', '이용거리(M)', '대여년', '대여월', '대여일', '대여시',\n",
       "       '대여분', '대여요일', '반납년', '반납월', '반납일', '반납시', '반납분', '반납요일'],\n",
       "      dtype='object')"
      ]
     },
     "execution_count": 35,
     "metadata": {},
     "output_type": "execute_result"
    }
   ],
   "source": [
    "df['반납년'] = df['반납일시'].dt.year\n",
    "df['반납월'] = df['반납일시'].dt.month\n",
    "df['반납일'] = df['반납일시'].dt.day\n",
    "df['반납시'] = df['반납일시'].dt.hour\n",
    "df['반납분'] = df['반납일시'].dt.minute\n",
    "df['반납요일'] = df['반납일시'].dt.dayofweek\n",
    "df.columns"
   ]
  },
  {
   "cell_type": "markdown",
   "metadata": {},
   "source": [
    "## 일자별 대여|반납 현황\n",
    "* 날짜에 따라 대여|반납 횟수를 확인한다."
   ]
  },
  {
   "cell_type": "code",
   "execution_count": 36,
   "metadata": {},
   "outputs": [
    {
     "name": "stdout",
     "output_type": "stream",
     "text": [
      "(15, 3)\n",
      "(18, 3)\n",
      "    day  count 대여반납\n",
      "5    16  46038   대여\n",
      "7    17  43161   대여\n",
      "11   18  35828   대여\n",
      "2    19  46839   대여\n",
      "3    20  46107   대여\n",
      "0    21  47319   대여\n",
      "1    22  47024   대여\n",
      "6    23  45274   대여\n",
      "10   24  39164   대여\n",
      "4    25  46105   대여\n",
      "14   26   6312   대여\n",
      "9    27  40698   대여\n",
      "12   28  27453   대여\n",
      "8    29  42313   대여\n",
      "13   30  26669   대여\n",
      "15    1    538   반납\n",
      "17    2      1   반납\n",
      "16    3      1   반납\n",
      "6    16  44701   반납\n",
      "7    17  43669   반납\n",
      "11   18  35781   반납\n",
      "1    19  46878   반납\n",
      "4    20  46085   반납\n",
      "0    21  47232   반납\n",
      "2    22  46670   반납\n",
      "5    23  45695   반납\n",
      "10   24  38962   반납\n",
      "3    25  46276   반납\n",
      "14   26   7028   반납\n",
      "9    27  40450   반납\n",
      "12   28  27540   반납\n",
      "8    29  41498   반납\n",
      "13   30  27299   반납\n",
      "(33, 3)\n"
     ]
    },
    {
     "data": {
      "text/html": [
       "<div>\n",
       "<style scoped>\n",
       "    .dataframe tbody tr th:only-of-type {\n",
       "        vertical-align: middle;\n",
       "    }\n",
       "\n",
       "    .dataframe tbody tr th {\n",
       "        vertical-align: top;\n",
       "    }\n",
       "\n",
       "    .dataframe thead th {\n",
       "        text-align: right;\n",
       "    }\n",
       "</style>\n",
       "<table border=\"1\" class=\"dataframe\">\n",
       "  <thead>\n",
       "    <tr style=\"text-align: right;\">\n",
       "      <th></th>\n",
       "      <th>day</th>\n",
       "      <th>count</th>\n",
       "      <th>대여반납</th>\n",
       "    </tr>\n",
       "  </thead>\n",
       "  <tbody>\n",
       "    <tr>\n",
       "      <th>5</th>\n",
       "      <td>16</td>\n",
       "      <td>46038</td>\n",
       "      <td>대여</td>\n",
       "    </tr>\n",
       "    <tr>\n",
       "      <th>7</th>\n",
       "      <td>17</td>\n",
       "      <td>43161</td>\n",
       "      <td>대여</td>\n",
       "    </tr>\n",
       "    <tr>\n",
       "      <th>11</th>\n",
       "      <td>18</td>\n",
       "      <td>35828</td>\n",
       "      <td>대여</td>\n",
       "    </tr>\n",
       "    <tr>\n",
       "      <th>2</th>\n",
       "      <td>19</td>\n",
       "      <td>46839</td>\n",
       "      <td>대여</td>\n",
       "    </tr>\n",
       "    <tr>\n",
       "      <th>3</th>\n",
       "      <td>20</td>\n",
       "      <td>46107</td>\n",
       "      <td>대여</td>\n",
       "    </tr>\n",
       "  </tbody>\n",
       "</table>\n",
       "</div>"
      ],
      "text/plain": [
       "    day  count 대여반납\n",
       "5    16  46038   대여\n",
       "7    17  43161   대여\n",
       "11   18  35828   대여\n",
       "2    19  46839   대여\n",
       "3    20  46107   대여"
      ]
     },
     "execution_count": 36,
     "metadata": {},
     "output_type": "execute_result"
    }
   ],
   "source": [
    "df_day_1 = df['대여일'].value_counts().reset_index()\n",
    "df_day_1.columns = ['day', 'count']\n",
    "\n",
    "df_day_1 = df_day_1.sort_values('day')\n",
    "df_day_1['대여반납'] = '대여'\n",
    "#print(df_day_1)\n",
    "print(df_day_1.shape)\n",
    "\n",
    "df_day_2 = df['반납일'].value_counts().reset_index()\n",
    "df_day_2.columns = ['day', 'count']\n",
    "df_day_2 = df_day_2.sort_values('day')\n",
    "df_day_2['대여반납'] = '반납'\n",
    "#print(df_day_2)\n",
    "print(df_day_2.shape)\n",
    "\n",
    "df_day = pd.concat([df_day_1, df_day_2])\n",
    "print(df_day)\n",
    "print(df_day.shape)\n",
    "df_day.head()"
   ]
  },
  {
   "cell_type": "code",
   "execution_count": 37,
   "metadata": {},
   "outputs": [],
   "source": [
    "import matplotlib\n",
    "import matplotlib.font_manager as fm\n",
    "\n",
    "font_path = 'C:/Windows/Fonts/malgun.ttf'\n",
    "fontprop = fm.FontProperties(fname=font_path).get_name()\n",
    "matplotlib.rc('font', family = fontprop)"
   ]
  },
  {
   "cell_type": "code",
   "execution_count": 38,
   "metadata": {},
   "outputs": [
    {
     "data": {
      "image/png": "[encoded data removed]",
      "text/plain": [
       "<Figure size 1200x600 with 1 Axes>"
      ]
     },
     "metadata": {},
     "output_type": "display_data"
    },
    {
     "data": {
      "text/plain": [
       "<ggplot: (114366152477)>"
      ]
     },
     "execution_count": 38,
     "metadata": {},
     "output_type": "execute_result"
    }
   ],
   "source": [
    "(ggplot(df_day)\n",
    " + aes(x='day', y='count', fill='대여반납')\n",
    " + geom_bar(stat='identity', position='dodge')\n",
    " + labs(x='대여일', y='대여수', title='일별 자전거 대여수')\n",
    " + theme(text=element_text(family=fontprop),\n",
    "        figure_size=(12,6))\n",
    ")"
   ]
  },
  {
   "cell_type": "markdown",
   "metadata": {},
   "source": [
    "* 일부 날짜의 데이터만 있다.\n",
    "* 2018년 6월 데이터만 봤을 때 26일에는 대여와 반납모두 적다.\n",
    "* 26일의 일기예보를 보면 장맛비가 내린것을 확인해 볼 수 있다. https://www.youtube.com/watch?v=cYHC8iwfFyU"
   ]
  },
  {
   "cell_type": "markdown",
   "metadata": {},
   "source": [
    "## 요일별 대여|반납 현황\n",
    "* 대여|반납별로 어떤 요일에 주로 대여반납이 되는지 시각화해보기 위해 Tidy Data를 만든다."
   ]
  },
  {
   "cell_type": "code",
   "execution_count": 39,
   "metadata": {},
   "outputs": [
    {
     "name": "stdout",
     "output_type": "stream",
     "text": [
      "(7, 3)\n",
      "(7, 3)\n",
      "(14, 3)\n"
     ]
    }
   ],
   "source": [
    "df_dow_1 = df['대여요일'].value_counts().reset_index()\n",
    "df_dow_1.columns = ['dayofweek', 'count']\n",
    "df_dow_1 = df_dow_1.sort_values('dayofweek')\n",
    "df_dow_1['대여반납'] = '대여'\n",
    "print(df_dow_1.shape)\n",
    "\n",
    "df_dow_2 = df['반납요일'].value_counts().reset_index()\n",
    "df_dow_2.columns = ['dayofweek', 'count']\n",
    "df_dow_2 = df_dow_2.sort_values('dayofweek')\n",
    "df_dow_2['대여반납'] = '반납'\n",
    "print(df_dow_2.shape)\n",
    "\n",
    "df_dow = pd.concat([df_dow_1, df_dow_2])\n",
    "print(df_dow.shape)"
   ]
  },
  {
   "cell_type": "code",
   "execution_count": 40,
   "metadata": {},
   "outputs": [
    {
     "data": {
      "text/html": [
       "<div>\n",
       "<style scoped>\n",
       "    .dataframe tbody tr th:only-of-type {\n",
       "        vertical-align: middle;\n",
       "    }\n",
       "\n",
       "    .dataframe tbody tr th {\n",
       "        vertical-align: top;\n",
       "    }\n",
       "\n",
       "    .dataframe thead th {\n",
       "        text-align: right;\n",
       "    }\n",
       "</style>\n",
       "<table border=\"1\" class=\"dataframe\">\n",
       "  <thead>\n",
       "    <tr style=\"text-align: right;\">\n",
       "      <th></th>\n",
       "      <th>dayofweek</th>\n",
       "      <th>count</th>\n",
       "      <th>대여반납</th>\n",
       "    </tr>\n",
       "  </thead>\n",
       "  <tbody>\n",
       "    <tr>\n",
       "      <th>4</th>\n",
       "      <td>0</td>\n",
       "      <td>81933</td>\n",
       "      <td>대여</td>\n",
       "    </tr>\n",
       "    <tr>\n",
       "      <th>6</th>\n",
       "      <td>1</td>\n",
       "      <td>53151</td>\n",
       "      <td>대여</td>\n",
       "    </tr>\n",
       "    <tr>\n",
       "      <th>2</th>\n",
       "      <td>2</td>\n",
       "      <td>86805</td>\n",
       "      <td>대여</td>\n",
       "    </tr>\n",
       "  </tbody>\n",
       "</table>\n",
       "</div>"
      ],
      "text/plain": [
       "   dayofweek  count 대여반납\n",
       "4          0  81933   대여\n",
       "6          1  53151   대여\n",
       "2          2  86805   대여"
      ]
     },
     "execution_count": 40,
     "metadata": {},
     "output_type": "execute_result"
    }
   ],
   "source": [
    "df_dow.head(3)"
   ]
  },
  {
   "cell_type": "code",
   "execution_count": 41,
   "metadata": {},
   "outputs": [
    {
     "data": {
      "text/html": [
       "<div>\n",
       "<style scoped>\n",
       "    .dataframe tbody tr th:only-of-type {\n",
       "        vertical-align: middle;\n",
       "    }\n",
       "\n",
       "    .dataframe tbody tr th {\n",
       "        vertical-align: top;\n",
       "    }\n",
       "\n",
       "    .dataframe thead th {\n",
       "        text-align: right;\n",
       "    }\n",
       "</style>\n",
       "<table border=\"1\" class=\"dataframe\">\n",
       "  <thead>\n",
       "    <tr style=\"text-align: right;\">\n",
       "      <th></th>\n",
       "      <th>dayofweek</th>\n",
       "      <th>count</th>\n",
       "      <th>대여반납</th>\n",
       "    </tr>\n",
       "  </thead>\n",
       "  <tbody>\n",
       "    <tr>\n",
       "      <th>1</th>\n",
       "      <td>4</td>\n",
       "      <td>88168</td>\n",
       "      <td>반납</td>\n",
       "    </tr>\n",
       "    <tr>\n",
       "      <th>0</th>\n",
       "      <td>5</td>\n",
       "      <td>117695</td>\n",
       "      <td>반납</td>\n",
       "    </tr>\n",
       "    <tr>\n",
       "      <th>3</th>\n",
       "      <td>6</td>\n",
       "      <td>83169</td>\n",
       "      <td>반납</td>\n",
       "    </tr>\n",
       "  </tbody>\n",
       "</table>\n",
       "</div>"
      ],
      "text/plain": [
       "   dayofweek   count 대여반납\n",
       "1          4   88168   반납\n",
       "0          5  117695   반납\n",
       "3          6   83169   반납"
      ]
     },
     "execution_count": 41,
     "metadata": {},
     "output_type": "execute_result"
    }
   ],
   "source": [
    "df_dow.tail(3)"
   ]
  },
  {
   "cell_type": "code",
   "execution_count": 42,
   "metadata": {},
   "outputs": [],
   "source": [
    "weekday_map= {0:'MON', 1:'TUE', 2:'WED', 3:'THU',\n",
    "              4:'FRI', 5:'SAT', 6:'SUN'}"
   ]
  },
  {
   "cell_type": "code",
   "execution_count": 43,
   "metadata": {},
   "outputs": [
    {
     "data": {
      "image/png": "[encoded data removed]",
      "text/plain": [
       "<Figure size 1200x600 with 1 Axes>"
      ]
     },
     "metadata": {},
     "output_type": "display_data"
    },
    {
     "data": {
      "text/plain": [
       "<ggplot: (114366165361)>"
      ]
     },
     "execution_count": 43,
     "metadata": {},
     "output_type": "execute_result"
    }
   ],
   "source": [
    "(ggplot(df_dow)\n",
    " + aes(x='dayofweek', y='count', fill='대여반납')\n",
    " + geom_bar(stat='identity', position='dodge')\n",
    " + geom_point()\n",
    " + geom_line(color='blue')\n",
    " + labs(x='대여요일', y='대여수', title='요일별 자전거 대여수')\n",
    " + theme(text=element_text(family=fontprop),\n",
    "        figure_size=(12,6))\n",
    ")"
   ]
  },
  {
   "cell_type": "markdown",
   "metadata": {},
   "source": [
    "## 시간대별 대여|반납량"
   ]
  },
  {
   "cell_type": "code",
   "execution_count": 44,
   "metadata": {},
   "outputs": [
    {
     "data": {
      "text/html": [
       "<div>\n",
       "<style scoped>\n",
       "    .dataframe tbody tr th:only-of-type {\n",
       "        vertical-align: middle;\n",
       "    }\n",
       "\n",
       "    .dataframe tbody tr th {\n",
       "        vertical-align: top;\n",
       "    }\n",
       "\n",
       "    .dataframe thead th {\n",
       "        text-align: right;\n",
       "    }\n",
       "</style>\n",
       "<table border=\"1\" class=\"dataframe\">\n",
       "  <thead>\n",
       "    <tr style=\"text-align: right;\">\n",
       "      <th></th>\n",
       "      <th>hour</th>\n",
       "      <th>count</th>\n",
       "      <th>대여반납</th>\n",
       "    </tr>\n",
       "  </thead>\n",
       "  <tbody>\n",
       "    <tr>\n",
       "      <th>13</th>\n",
       "      <td>0</td>\n",
       "      <td>19837</td>\n",
       "      <td>대여</td>\n",
       "    </tr>\n",
       "    <tr>\n",
       "      <th>17</th>\n",
       "      <td>1</td>\n",
       "      <td>15358</td>\n",
       "      <td>대여</td>\n",
       "    </tr>\n",
       "    <tr>\n",
       "      <th>19</th>\n",
       "      <td>2</td>\n",
       "      <td>12255</td>\n",
       "      <td>대여</td>\n",
       "    </tr>\n",
       "    <tr>\n",
       "      <th>21</th>\n",
       "      <td>3</td>\n",
       "      <td>7462</td>\n",
       "      <td>대여</td>\n",
       "    </tr>\n",
       "    <tr>\n",
       "      <th>23</th>\n",
       "      <td>4</td>\n",
       "      <td>4392</td>\n",
       "      <td>대여</td>\n",
       "    </tr>\n",
       "  </tbody>\n",
       "</table>\n",
       "</div>"
      ],
      "text/plain": [
       "    hour  count 대여반납\n",
       "13     0  19837   대여\n",
       "17     1  15358   대여\n",
       "19     2  12255   대여\n",
       "21     3   7462   대여\n",
       "23     4   4392   대여"
      ]
     },
     "execution_count": 44,
     "metadata": {},
     "output_type": "execute_result"
    }
   ],
   "source": [
    "df_hour_1 = df['대여시'].value_counts().reset_index()\n",
    "df_hour_1.columns = ['hour', 'count']\n",
    "df_hour_1 = df_hour_1.sort_values('hour')\n",
    "df_hour_1['대여반납'] = '대여'\n",
    "df_hour_1.head()\n",
    "\n",
    "df_hour_2 = df['반납시'].value_counts().reset_index()\n",
    "df_hour_2.columns = ['hour', 'count']\n",
    "df_hour_2 = df_hour_2.sort_values('hour')\n",
    "df_hour_2['대여반납'] = '반납'\n",
    "df_hour_2.head()\n",
    "\n",
    "df_hour = pd.concat([df_hour_1, df_hour_2])\n",
    "df_hour.head()"
   ]
  },
  {
   "cell_type": "code",
   "execution_count": 45,
   "metadata": {},
   "outputs": [
    {
     "data": {
      "text/html": [
       "<div>\n",
       "<style scoped>\n",
       "    .dataframe tbody tr th:only-of-type {\n",
       "        vertical-align: middle;\n",
       "    }\n",
       "\n",
       "    .dataframe tbody tr th {\n",
       "        vertical-align: top;\n",
       "    }\n",
       "\n",
       "    .dataframe thead th {\n",
       "        text-align: right;\n",
       "    }\n",
       "</style>\n",
       "<table border=\"1\" class=\"dataframe\">\n",
       "  <thead>\n",
       "    <tr style=\"text-align: right;\">\n",
       "      <th></th>\n",
       "      <th>hour</th>\n",
       "      <th>count</th>\n",
       "      <th>대여반납</th>\n",
       "    </tr>\n",
       "  </thead>\n",
       "  <tbody>\n",
       "    <tr>\n",
       "      <th>1</th>\n",
       "      <td>19</td>\n",
       "      <td>46836</td>\n",
       "      <td>반납</td>\n",
       "    </tr>\n",
       "    <tr>\n",
       "      <th>2</th>\n",
       "      <td>20</td>\n",
       "      <td>45713</td>\n",
       "      <td>반납</td>\n",
       "    </tr>\n",
       "    <tr>\n",
       "      <th>3</th>\n",
       "      <td>21</td>\n",
       "      <td>45628</td>\n",
       "      <td>반납</td>\n",
       "    </tr>\n",
       "    <tr>\n",
       "      <th>4</th>\n",
       "      <td>22</td>\n",
       "      <td>44417</td>\n",
       "      <td>반납</td>\n",
       "    </tr>\n",
       "    <tr>\n",
       "      <th>5</th>\n",
       "      <td>23</td>\n",
       "      <td>34927</td>\n",
       "      <td>반납</td>\n",
       "    </tr>\n",
       "  </tbody>\n",
       "</table>\n",
       "</div>"
      ],
      "text/plain": [
       "   hour  count 대여반납\n",
       "1    19  46836   반납\n",
       "2    20  45713   반납\n",
       "3    21  45628   반납\n",
       "4    22  44417   반납\n",
       "5    23  34927   반납"
      ]
     },
     "execution_count": 45,
     "metadata": {},
     "output_type": "execute_result"
    }
   ],
   "source": [
    "df_hour.tail()"
   ]
  },
  {
   "cell_type": "code",
   "execution_count": 46,
   "metadata": {},
   "outputs": [
    {
     "data": {
      "image/png": "[encoded data removed]",
      "text/plain": [
       "<Figure size 1200x600 with 1 Axes>"
      ]
     },
     "metadata": {},
     "output_type": "display_data"
    },
    {
     "data": {
      "text/plain": [
       "<ggplot: (-9223371922491776873)>"
      ]
     },
     "execution_count": 46,
     "metadata": {},
     "output_type": "execute_result"
    }
   ],
   "source": [
    "(ggplot(df_hour)\n",
    " + aes(x='hour', y='count', fill='대여반납')\n",
    " + geom_bar(stat='identity', position='dodge')\n",
    " + geom_point()\n",
    " + geom_line(color='blue')\n",
    " + labs(x='시간', y='대여/반납 수', title='시간대별 자전거 대여/반납수')\n",
    " + theme(text=element_text(family=fontprop),\n",
    "        figure_size=(12,6))\n",
    ")"
   ]
  },
  {
   "cell_type": "markdown",
   "metadata": {},
   "source": [
    "* 새벽시간대로 갈 수록 대여/반납 수가 줄어든다.\n",
    "* 출근시간대에는 대여가 반납보다 많다.\n",
    "* 오전에는 8시대에 대여/반납이 많으며, 오후시간대에는 18시에 대여/반납이 가장 많다.\n",
    "* 오전 11시부터 20시까지는 대여가 반납보다 많다.(대여>반납)\n",
    "* 21시 이후부터 오전 4시까지는 대여보다 반납이 많다.(대여<반납)"
   ]
  },
  {
   "cell_type": "code",
   "execution_count": 47,
   "metadata": {},
   "outputs": [
    {
     "name": "stdout",
     "output_type": "stream",
     "text": [
      "(60, 3)\n",
      "(60, 3)\n",
      "(120, 3)\n"
     ]
    }
   ],
   "source": [
    "df_minute_1 = df['대여분'].value_counts().reset_index()\n",
    "df_minute_1.columns = ['minute', 'count']\n",
    "df_minute_1 = df_minute_1.sort_values('minute')\n",
    "df_minute_1['대여반납'] = '대여'\n",
    "print(df_minute_1.shape)\n",
    "\n",
    "df_minute_2 = df['반납분'].value_counts().reset_index()\n",
    "df_minute_2.columns = ['minute', 'count']\n",
    "df_minute_2 = df_minute_2.sort_values('minute')\n",
    "df_minute_2['대여반납'] = '반납'\n",
    "print(df_minute_2.shape)\n",
    "\n",
    "df_minute = pd.concat([df_minute_1, df_minute_2])\n",
    "print(df_minute.shape)"
   ]
  },
  {
   "cell_type": "code",
   "execution_count": 159,
   "metadata": {},
   "outputs": [
    {
     "data": {
      "text/html": [
       "<div>\n",
       "<style scoped>\n",
       "    .dataframe tbody tr th:only-of-type {\n",
       "        vertical-align: middle;\n",
       "    }\n",
       "\n",
       "    .dataframe tbody tr th {\n",
       "        vertical-align: top;\n",
       "    }\n",
       "\n",
       "    .dataframe thead th {\n",
       "        text-align: right;\n",
       "    }\n",
       "</style>\n",
       "<table border=\"1\" class=\"dataframe\">\n",
       "  <thead>\n",
       "    <tr style=\"text-align: right;\">\n",
       "      <th></th>\n",
       "      <th>minute</th>\n",
       "      <th>count</th>\n",
       "      <th>대여반납</th>\n",
       "    </tr>\n",
       "  </thead>\n",
       "  <tbody>\n",
       "    <tr>\n",
       "      <th>57</th>\n",
       "      <td>0</td>\n",
       "      <td>9326</td>\n",
       "      <td>대여</td>\n",
       "    </tr>\n",
       "    <tr>\n",
       "      <th>41</th>\n",
       "      <td>1</td>\n",
       "      <td>9601</td>\n",
       "      <td>대여</td>\n",
       "    </tr>\n",
       "    <tr>\n",
       "      <th>24</th>\n",
       "      <td>2</td>\n",
       "      <td>9758</td>\n",
       "      <td>대여</td>\n",
       "    </tr>\n",
       "    <tr>\n",
       "      <th>28</th>\n",
       "      <td>3</td>\n",
       "      <td>9748</td>\n",
       "      <td>대여</td>\n",
       "    </tr>\n",
       "    <tr>\n",
       "      <th>11</th>\n",
       "      <td>4</td>\n",
       "      <td>10037</td>\n",
       "      <td>대여</td>\n",
       "    </tr>\n",
       "  </tbody>\n",
       "</table>\n",
       "</div>"
      ],
      "text/plain": [
       "    minute  count 대여반납\n",
       "57       0   9326   대여\n",
       "41       1   9601   대여\n",
       "24       2   9758   대여\n",
       "28       3   9748   대여\n",
       "11       4  10037   대여"
      ]
     },
     "execution_count": 159,
     "metadata": {},
     "output_type": "execute_result"
    }
   ],
   "source": [
    "df_minute.head()"
   ]
  },
  {
   "cell_type": "code",
   "execution_count": 160,
   "metadata": {},
   "outputs": [
    {
     "data": {
      "text/html": [
       "<div>\n",
       "<style scoped>\n",
       "    .dataframe tbody tr th:only-of-type {\n",
       "        vertical-align: middle;\n",
       "    }\n",
       "\n",
       "    .dataframe tbody tr th {\n",
       "        vertical-align: top;\n",
       "    }\n",
       "\n",
       "    .dataframe thead th {\n",
       "        text-align: right;\n",
       "    }\n",
       "</style>\n",
       "<table border=\"1\" class=\"dataframe\">\n",
       "  <thead>\n",
       "    <tr style=\"text-align: right;\">\n",
       "      <th></th>\n",
       "      <th>minute</th>\n",
       "      <th>count</th>\n",
       "      <th>대여반납</th>\n",
       "    </tr>\n",
       "  </thead>\n",
       "  <tbody>\n",
       "    <tr>\n",
       "      <th>3</th>\n",
       "      <td>55</td>\n",
       "      <td>10369</td>\n",
       "      <td>반납</td>\n",
       "    </tr>\n",
       "    <tr>\n",
       "      <th>10</th>\n",
       "      <td>56</td>\n",
       "      <td>10095</td>\n",
       "      <td>반납</td>\n",
       "    </tr>\n",
       "    <tr>\n",
       "      <th>11</th>\n",
       "      <td>57</td>\n",
       "      <td>10094</td>\n",
       "      <td>반납</td>\n",
       "    </tr>\n",
       "    <tr>\n",
       "      <th>19</th>\n",
       "      <td>58</td>\n",
       "      <td>9882</td>\n",
       "      <td>반납</td>\n",
       "    </tr>\n",
       "    <tr>\n",
       "      <th>18</th>\n",
       "      <td>59</td>\n",
       "      <td>9887</td>\n",
       "      <td>반납</td>\n",
       "    </tr>\n",
       "  </tbody>\n",
       "</table>\n",
       "</div>"
      ],
      "text/plain": [
       "    minute  count 대여반납\n",
       "3       55  10369   반납\n",
       "10      56  10095   반납\n",
       "11      57  10094   반납\n",
       "19      58   9882   반납\n",
       "18      59   9887   반납"
      ]
     },
     "execution_count": 160,
     "metadata": {},
     "output_type": "execute_result"
    }
   ],
   "source": [
    "df_minute.tail()"
   ]
  },
  {
   "cell_type": "code",
   "execution_count": 48,
   "metadata": {},
   "outputs": [
    {
     "data": {
      "image/png": "[encoded data removed]",
      "text/plain": [
       "<Figure size 1200x600 with 1 Axes>"
      ]
     },
     "metadata": {},
     "output_type": "display_data"
    },
    {
     "data": {
      "text/plain": [
       "<ggplot: (114362900130)>"
      ]
     },
     "execution_count": 48,
     "metadata": {},
     "output_type": "execute_result"
    }
   ],
   "source": [
    "(ggplot(df_minute)\n",
    " + aes(x='minute', y='count', fill='대여반납')\n",
    " + geom_bar(stat='identity', position='dodge')\n",
    " + geom_line(color='blue')\n",
    " + labs(x='분', y='대여/반납 수', title='시간대별(분) 자전거 대여/반납수')\n",
    " + theme(text=element_text(family=fontprop),\n",
    "        figure_size=(12,6))\n",
    ")"
   ]
  },
  {
   "cell_type": "markdown",
   "metadata": {},
   "source": [
    "* 대여/반납이 거의 비슷하게 이루어지고 있지만 대여는 0~20분 사이에 더 많이 일어나며 반납은 40~60분 사이에 더 많이 일어난다."
   ]
  },
  {
   "cell_type": "markdown",
   "metadata": {},
   "source": [
    "## 대여와 반납은 같은 곳에서 이루어지고 있을까?"
   ]
  },
  {
   "cell_type": "code",
   "execution_count": 49,
   "metadata": {},
   "outputs": [],
   "source": [
    "# 같은대여반납소라는 컬럼을 새로 만들고 대여반납이 같은 곳에서 이루어지고 있는지 여부를 추가한다.\n",
    "df['같은대여반납소'] = df['대여대여소명'] == df['반납대여소명']"
   ]
  },
  {
   "cell_type": "code",
   "execution_count": 50,
   "metadata": {},
   "outputs": [
    {
     "name": "stdout",
     "output_type": "stream",
     "text": [
      "7.85602078424\n",
      "같은 곳에서 대여반납 하는 것보다 다른 곳에서 대여반납 하는 것이 7.86배 많다.\n"
     ]
    },
    {
     "data": {
      "text/html": [
       "<div>\n",
       "<style scoped>\n",
       "    .dataframe tbody tr th:only-of-type {\n",
       "        vertical-align: middle;\n",
       "    }\n",
       "\n",
       "    .dataframe tbody tr th {\n",
       "        vertical-align: top;\n",
       "    }\n",
       "\n",
       "    .dataframe thead th {\n",
       "        text-align: right;\n",
       "    }\n",
       "</style>\n",
       "<table border=\"1\" class=\"dataframe\">\n",
       "  <thead>\n",
       "    <tr style=\"text-align: right;\">\n",
       "      <th></th>\n",
       "      <th>일치여부</th>\n",
       "      <th>대여반납수</th>\n",
       "    </tr>\n",
       "  </thead>\n",
       "  <tbody>\n",
       "    <tr>\n",
       "      <th>0</th>\n",
       "      <td>False</td>\n",
       "      <td>520100</td>\n",
       "    </tr>\n",
       "    <tr>\n",
       "      <th>1</th>\n",
       "      <td>True</td>\n",
       "      <td>66204</td>\n",
       "    </tr>\n",
       "  </tbody>\n",
       "</table>\n",
       "</div>"
      ],
      "text/plain": [
       "    일치여부   대여반납수\n",
       "0  False  520100\n",
       "1   True   66204"
      ]
     },
     "execution_count": 50,
     "metadata": {},
     "output_type": "execute_result"
    }
   ],
   "source": [
    "df_location_diff = df['같은대여반납소'].value_counts().reset_index()\n",
    "df_location_diff.columns = ['일치여부', '대여반납수']\n",
    "# 같은|다른 반납소별로 대여반납수가 몇 배나 차이가 나는지 확인한다.\n",
    "location_diff_ratio = df_location_diff['대여반납수'][0]/df_location_diff['대여반납수'][1]\n",
    "print(location_diff_ratio)\n",
    "print('같은 곳에서 대여반납 하는 것보다 다른 곳에서 대여반납 하는 것이 {0:.2f}배 많다.'.format(location_diff_ratio))\n",
    "df_location_diff"
   ]
  },
  {
   "cell_type": "code",
   "execution_count": 51,
   "metadata": {},
   "outputs": [
    {
     "data": {
      "text/plain": [
       "0    520100\n",
       "1     66204\n",
       "Name: 대여반납수, dtype: int64"
      ]
     },
     "execution_count": 51,
     "metadata": {},
     "output_type": "execute_result"
    }
   ],
   "source": [
    "df_location_diff['대여반납수']"
   ]
  },
  {
   "cell_type": "code",
   "execution_count": 52,
   "metadata": {},
   "outputs": [
    {
     "data": {
      "image/png": "[encoded data removed]",
      "text/plain": [
       "<Figure size 640x480 with 1 Axes>"
      ]
     },
     "metadata": {},
     "output_type": "display_data"
    },
    {
     "data": {
      "text/plain": [
       "<ggplot: (-9223371922488628841)>"
      ]
     },
     "execution_count": 52,
     "metadata": {},
     "output_type": "execute_result"
    }
   ],
   "source": [
    "# 대여반납수로 fill을 넣어주어 그래프에 색상표현이 되도록 한다.\n",
    "(ggplot(df_location_diff)\n",
    " + geom_col(mapping=aes(x='일치여부', y='대여반납수', fill='대여반납수'))\n",
    " + labs(title='대여반납소 일치여부')\n",
    " + theme(text=element_text(family=fontprop))\n",
    ")"
   ]
  },
  {
   "cell_type": "markdown",
   "metadata": {},
   "source": [
    "같은 곳에서 대여반납을 하는 것보다 다른 곳으로의 대여반납이 훨씬 많은 것을 확인할 수 있다."
   ]
  },
  {
   "cell_type": "code",
   "execution_count": 53,
   "metadata": {},
   "outputs": [
    {
     "data": {
      "text/html": [
       "<div>\n",
       "<style scoped>\n",
       "    .dataframe tbody tr th:only-of-type {\n",
       "        vertical-align: middle;\n",
       "    }\n",
       "\n",
       "    .dataframe tbody tr th {\n",
       "        vertical-align: top;\n",
       "    }\n",
       "\n",
       "    .dataframe thead th {\n",
       "        text-align: right;\n",
       "    }\n",
       "</style>\n",
       "<table border=\"1\" class=\"dataframe\">\n",
       "  <thead>\n",
       "    <tr style=\"text-align: right;\">\n",
       "      <th></th>\n",
       "      <th>자전거번호</th>\n",
       "      <th>대여일시</th>\n",
       "      <th>대여대여소번호</th>\n",
       "      <th>대여대여소명</th>\n",
       "      <th>대여거치대</th>\n",
       "      <th>반납일시</th>\n",
       "      <th>반납대여소번호</th>\n",
       "      <th>반납대여소명</th>\n",
       "      <th>반납거치대</th>\n",
       "      <th>이용시간(분)</th>\n",
       "      <th>...</th>\n",
       "      <th>대여시</th>\n",
       "      <th>대여분</th>\n",
       "      <th>대여요일</th>\n",
       "      <th>반납년</th>\n",
       "      <th>반납월</th>\n",
       "      <th>반납일</th>\n",
       "      <th>반납시</th>\n",
       "      <th>반납분</th>\n",
       "      <th>반납요일</th>\n",
       "      <th>같은대여반납소</th>\n",
       "    </tr>\n",
       "  </thead>\n",
       "  <tbody>\n",
       "    <tr>\n",
       "      <th>27</th>\n",
       "      <td>SPB-09000</td>\n",
       "      <td>2018-06-16 00:01:22</td>\n",
       "      <td>2025</td>\n",
       "      <td>흑석역 1번출구</td>\n",
       "      <td>13</td>\n",
       "      <td>2018-06-16 01:10:42</td>\n",
       "      <td>2025</td>\n",
       "      <td>흑석역 1번출구</td>\n",
       "      <td>9</td>\n",
       "      <td>67</td>\n",
       "      <td>...</td>\n",
       "      <td>0</td>\n",
       "      <td>1</td>\n",
       "      <td>5</td>\n",
       "      <td>2018</td>\n",
       "      <td>6</td>\n",
       "      <td>16</td>\n",
       "      <td>1</td>\n",
       "      <td>10</td>\n",
       "      <td>5</td>\n",
       "      <td>True</td>\n",
       "    </tr>\n",
       "    <tr>\n",
       "      <th>34</th>\n",
       "      <td>SPB-08794</td>\n",
       "      <td>2018-06-16 00:01:32</td>\n",
       "      <td>2025</td>\n",
       "      <td>흑석역 1번출구</td>\n",
       "      <td>10</td>\n",
       "      <td>2018-06-16 01:10:42</td>\n",
       "      <td>2025</td>\n",
       "      <td>흑석역 1번출구</td>\n",
       "      <td>15</td>\n",
       "      <td>64</td>\n",
       "      <td>...</td>\n",
       "      <td>0</td>\n",
       "      <td>1</td>\n",
       "      <td>5</td>\n",
       "      <td>2018</td>\n",
       "      <td>6</td>\n",
       "      <td>16</td>\n",
       "      <td>1</td>\n",
       "      <td>10</td>\n",
       "      <td>5</td>\n",
       "      <td>True</td>\n",
       "    </tr>\n",
       "    <tr>\n",
       "      <th>40</th>\n",
       "      <td>SPB-02178</td>\n",
       "      <td>2018-06-16 00:01:47</td>\n",
       "      <td>1308</td>\n",
       "      <td>안암로터리 버스정류장 앞</td>\n",
       "      <td>3</td>\n",
       "      <td>2018-06-16 01:52:14</td>\n",
       "      <td>1308</td>\n",
       "      <td>안암로터리 버스정류장 앞</td>\n",
       "      <td>4</td>\n",
       "      <td>110</td>\n",
       "      <td>...</td>\n",
       "      <td>0</td>\n",
       "      <td>1</td>\n",
       "      <td>5</td>\n",
       "      <td>2018</td>\n",
       "      <td>6</td>\n",
       "      <td>16</td>\n",
       "      <td>1</td>\n",
       "      <td>52</td>\n",
       "      <td>5</td>\n",
       "      <td>True</td>\n",
       "    </tr>\n",
       "    <tr>\n",
       "      <th>42</th>\n",
       "      <td>SPB-06487</td>\n",
       "      <td>2018-06-16 00:01:50</td>\n",
       "      <td>421</td>\n",
       "      <td>마포구청 앞</td>\n",
       "      <td>6</td>\n",
       "      <td>2018-06-16 00:04:24</td>\n",
       "      <td>421</td>\n",
       "      <td>마포구청 앞</td>\n",
       "      <td>7</td>\n",
       "      <td>2</td>\n",
       "      <td>...</td>\n",
       "      <td>0</td>\n",
       "      <td>1</td>\n",
       "      <td>5</td>\n",
       "      <td>2018</td>\n",
       "      <td>6</td>\n",
       "      <td>16</td>\n",
       "      <td>0</td>\n",
       "      <td>4</td>\n",
       "      <td>5</td>\n",
       "      <td>True</td>\n",
       "    </tr>\n",
       "    <tr>\n",
       "      <th>47</th>\n",
       "      <td>SPB-09293</td>\n",
       "      <td>2018-06-16 00:01:56</td>\n",
       "      <td>235</td>\n",
       "      <td>신길동 우리은행 옆</td>\n",
       "      <td>5</td>\n",
       "      <td>2018-06-16 00:05:02</td>\n",
       "      <td>235</td>\n",
       "      <td>신길동 우리은행 옆</td>\n",
       "      <td>5</td>\n",
       "      <td>3</td>\n",
       "      <td>...</td>\n",
       "      <td>0</td>\n",
       "      <td>1</td>\n",
       "      <td>5</td>\n",
       "      <td>2018</td>\n",
       "      <td>6</td>\n",
       "      <td>16</td>\n",
       "      <td>0</td>\n",
       "      <td>5</td>\n",
       "      <td>5</td>\n",
       "      <td>True</td>\n",
       "    </tr>\n",
       "  </tbody>\n",
       "</table>\n",
       "<p>5 rows × 24 columns</p>\n",
       "</div>"
      ],
      "text/plain": [
       "        자전거번호                대여일시 대여대여소번호          대여대여소명  대여거치대  \\\n",
       "27  SPB-09000 2018-06-16 00:01:22    2025        흑석역 1번출구     13   \n",
       "34  SPB-08794 2018-06-16 00:01:32    2025        흑석역 1번출구     10   \n",
       "40  SPB-02178 2018-06-16 00:01:47    1308   안암로터리 버스정류장 앞      3   \n",
       "42  SPB-06487 2018-06-16 00:01:50     421          마포구청 앞      6   \n",
       "47  SPB-09293 2018-06-16 00:01:56     235      신길동 우리은행 옆      5   \n",
       "\n",
       "                  반납일시 반납대여소번호          반납대여소명  반납거치대  이용시간(분)   ...     대여시  \\\n",
       "27 2018-06-16 01:10:42    2025        흑석역 1번출구      9       67   ...       0   \n",
       "34 2018-06-16 01:10:42    2025        흑석역 1번출구     15       64   ...       0   \n",
       "40 2018-06-16 01:52:14    1308   안암로터리 버스정류장 앞      4      110   ...       0   \n",
       "42 2018-06-16 00:04:24     421          마포구청 앞      7        2   ...       0   \n",
       "47 2018-06-16 00:05:02     235      신길동 우리은행 옆      5        3   ...       0   \n",
       "\n",
       "    대여분  대여요일   반납년  반납월  반납일  반납시  반납분  반납요일  같은대여반납소  \n",
       "27    1     5  2018    6   16    1   10     5     True  \n",
       "34    1     5  2018    6   16    1   10     5     True  \n",
       "40    1     5  2018    6   16    1   52     5     True  \n",
       "42    1     5  2018    6   16    0    4     5     True  \n",
       "47    1     5  2018    6   16    0    5     5     True  \n",
       "\n",
       "[5 rows x 24 columns]"
      ]
     },
     "execution_count": 53,
     "metadata": {},
     "output_type": "execute_result"
    }
   ],
   "source": [
    "df_same_loc = df.loc[df['같은대여반납소'] == True]\n",
    "df_same_loc.head()"
   ]
  },
  {
   "cell_type": "code",
   "execution_count": 54,
   "metadata": {},
   "outputs": [
    {
     "data": {
      "text/plain": [
       " 여의나루역 1번출구 앞               1046\n",
       " 뚝섬유원지역 1번출구 앞               900\n",
       " 서울숲 관리사무소                   665\n",
       " 봉림교 교통섬                     543\n",
       " 마포구민체육센터 앞                  541\n",
       " 고속터미널역 8-1번, 8-2번 출구 사이     485\n",
       " 옥수역 3번출구                    457\n",
       " 몽촌토성역 1번출구 옆                390\n",
       " 노들역 1번출구                    372\n",
       " 당산육갑문                       336\n",
       " 양천향교역 7번출구앞                 326\n",
       " 월드컵공원                       321\n",
       " CJ 드림시티                     311\n",
       " 홍대입구역 2번출구 앞                302\n",
       " 청계천 생태교실 앞                  292\n",
       " 홍은사거리                       288\n",
       " 마포구청 앞                      288\n",
       " 황금내근린공원                     280\n",
       " 잠실새내역 5번 출구 뒤               279\n",
       " 흑석역 1번출구                    274\n",
       " 보문2교                        266\n",
       " 외국어대 정문 앞                   262\n",
       " 한신16차아파트 119동 앞             260\n",
       " 새절역 2번출구                    252\n",
       " 현대고등학교 건너편                  246\n",
       " 서울숲역 4번 출구 옆                214\n",
       " 도림천 신화교                     212\n",
       " 도봉구청 옆(중랑천변)                211\n",
       " 독산보도육교 앞 자전거 보관소            210\n",
       " 안암로터리 버스정류장 앞               204\n",
       "Name: 대여대여소명, dtype: int64"
      ]
     },
     "execution_count": 54,
     "metadata": {},
     "output_type": "execute_result"
    }
   ],
   "source": [
    "# 같은 곳에서 대여반납이 이루어지는 상위 대여소(대여|반납 건 수)\n",
    "df_same_loc['대여대여소명'].value_counts().head(30)"
   ]
  },
  {
   "cell_type": "markdown",
   "metadata": {},
   "source": [
    "* 같은 곳에서 대여반납이 이루어지는 대여소들은 한강주변이나 공원 주변에 위치한 것을 확인해 볼 수 있다."
   ]
  },
  {
   "cell_type": "markdown",
   "metadata": {},
   "source": [
    "## 같은|다른 대여소에서 대여가 되는 자전거의 평균 이용시간\n",
    "### 같은 대여반납소"
   ]
  },
  {
   "cell_type": "code",
   "execution_count": 55,
   "metadata": {},
   "outputs": [
    {
     "name": "stdout",
     "output_type": "stream",
     "text": [
      "같은곳에서 대여, 반납이 이루어지는 자전거의 평균 이용시간 :  53.1842940004\n",
      "           대여대여소명          반납대여소명    이용시간(분)\n",
      "0          강동구청 앞          강동구청 앞  57.882353\n",
      "1      둔촌역 3번 출입구      둔촌역 3번 출입구  46.810127\n",
      "2   (구)신한은행 중랑교지점   (구)신한은행 중랑교지점  47.545455\n",
      "3     (구)합정동 주민센터     (구)합정동 주민센터  62.639344\n",
      "4   3호선 매봉역 3번출구앞   3호선 매봉역 3번출구앞  48.227273\n",
      "------------------------------------------------\n",
      "           대여대여소명          반납대여소명  이용횟수\n",
      "0          강동구청 앞          강동구청 앞    34\n",
      "1      둔촌역 3번 출입구      둔촌역 3번 출입구    79\n",
      "2   (구)신한은행 중랑교지점   (구)신한은행 중랑교지점    44\n",
      "3     (구)합정동 주민센터     (구)합정동 주민센터    61\n",
      "4   3호선 매봉역 3번출구앞   3호선 매봉역 3번출구앞    66\n",
      "------------------------------------------------\n",
      "           대여대여소명          반납대여소명    이용시간(분)  이용횟수\n",
      "0          강동구청 앞          강동구청 앞  57.882353    34\n",
      "1      둔촌역 3번 출입구      둔촌역 3번 출입구  46.810127    79\n",
      "2   (구)신한은행 중랑교지점   (구)신한은행 중랑교지점  47.545455    44\n",
      "3     (구)합정동 주민센터     (구)합정동 주민센터  62.639344    61\n",
      "4   3호선 매봉역 3번출구앞   3호선 매봉역 3번출구앞  48.227273    66\n"
     ]
    },
    {
     "data": {
      "text/html": [
       "<div>\n",
       "<style scoped>\n",
       "    .dataframe tbody tr th:only-of-type {\n",
       "        vertical-align: middle;\n",
       "    }\n",
       "\n",
       "    .dataframe tbody tr th {\n",
       "        vertical-align: top;\n",
       "    }\n",
       "\n",
       "    .dataframe thead th {\n",
       "        text-align: right;\n",
       "    }\n",
       "</style>\n",
       "<table border=\"1\" class=\"dataframe\">\n",
       "  <thead>\n",
       "    <tr style=\"text-align: right;\">\n",
       "      <th></th>\n",
       "      <th>대여대여소명</th>\n",
       "      <th>반납대여소명</th>\n",
       "      <th>이용시간(분)</th>\n",
       "      <th>이용횟수</th>\n",
       "    </tr>\n",
       "  </thead>\n",
       "  <tbody>\n",
       "    <tr>\n",
       "      <th>167</th>\n",
       "      <td>구로1동우체국 앞</td>\n",
       "      <td>구로1동우체국 앞</td>\n",
       "      <td>143.500000</td>\n",
       "      <td>2</td>\n",
       "    </tr>\n",
       "    <tr>\n",
       "      <th>278</th>\n",
       "      <td>달맞이공원</td>\n",
       "      <td>달맞이공원</td>\n",
       "      <td>122.066667</td>\n",
       "      <td>15</td>\n",
       "    </tr>\n",
       "    <tr>\n",
       "      <th>434</th>\n",
       "      <td>명지대학교 학생회관</td>\n",
       "      <td>명지대학교 학생회관</td>\n",
       "      <td>121.285714</td>\n",
       "      <td>7</td>\n",
       "    </tr>\n",
       "    <tr>\n",
       "      <th>856</th>\n",
       "      <td>역삼동 sk뷰 501동앞</td>\n",
       "      <td>역삼동 sk뷰 501동앞</td>\n",
       "      <td>114.000000</td>\n",
       "      <td>1</td>\n",
       "    </tr>\n",
       "    <tr>\n",
       "      <th>66</th>\n",
       "      <td>강남세브란스교차로  래미안그레이튼 104동 앞</td>\n",
       "      <td>강남세브란스교차로  래미안그레이튼 104동 앞</td>\n",
       "      <td>99.727273</td>\n",
       "      <td>11</td>\n",
       "    </tr>\n",
       "    <tr>\n",
       "      <th>131</th>\n",
       "      <td>공항시장역 4번출구</td>\n",
       "      <td>공항시장역 4번출구</td>\n",
       "      <td>95.545455</td>\n",
       "      <td>11</td>\n",
       "    </tr>\n",
       "    <tr>\n",
       "      <th>833</th>\n",
       "      <td>양원역 2번출구</td>\n",
       "      <td>양원역 2번출구</td>\n",
       "      <td>94.333333</td>\n",
       "      <td>3</td>\n",
       "    </tr>\n",
       "    <tr>\n",
       "      <th>618</th>\n",
       "      <td>서대문구청</td>\n",
       "      <td>서대문구청</td>\n",
       "      <td>92.023810</td>\n",
       "      <td>42</td>\n",
       "    </tr>\n",
       "    <tr>\n",
       "      <th>221</th>\n",
       "      <td>금호역 1번출구 앞</td>\n",
       "      <td>금호역 1번출구 앞</td>\n",
       "      <td>91.777778</td>\n",
       "      <td>9</td>\n",
       "    </tr>\n",
       "    <tr>\n",
       "      <th>235</th>\n",
       "      <td>낙성대역 1번출구</td>\n",
       "      <td>낙성대역 1번출구</td>\n",
       "      <td>89.562500</td>\n",
       "      <td>16</td>\n",
       "    </tr>\n",
       "  </tbody>\n",
       "</table>\n",
       "</div>"
      ],
      "text/plain": [
       "                         대여대여소명                      반납대여소명     이용시간(분)  이용횟수\n",
       "167                   구로1동우체국 앞                   구로1동우체국 앞  143.500000     2\n",
       "278                       달맞이공원                       달맞이공원  122.066667    15\n",
       "434                  명지대학교 학생회관                  명지대학교 학생회관  121.285714     7\n",
       "856               역삼동 sk뷰 501동앞               역삼동 sk뷰 501동앞  114.000000     1\n",
       "66    강남세브란스교차로  래미안그레이튼 104동 앞   강남세브란스교차로  래미안그레이튼 104동 앞   99.727273    11\n",
       "131                  공항시장역 4번출구                  공항시장역 4번출구   95.545455    11\n",
       "833                    양원역 2번출구                    양원역 2번출구   94.333333     3\n",
       "618                       서대문구청                       서대문구청   92.023810    42\n",
       "221                  금호역 1번출구 앞                  금호역 1번출구 앞   91.777778     9\n",
       "235                   낙성대역 1번출구                   낙성대역 1번출구   89.562500    16"
      ]
     },
     "execution_count": 55,
     "metadata": {},
     "output_type": "execute_result"
    }
   ],
   "source": [
    "same_loc_mean_time = df_same_loc['이용시간(분)'].mean()\n",
    "print('같은곳에서 대여, 반납이 이루어지는 자전거의 평균 이용시간 : ', same_loc_mean_time)\n",
    "df_same_mean = df_same_loc.groupby(['대여대여소명', '반납대여소명'])['이용시간(분)'].mean().reset_index()\n",
    "print(df_same_mean.head())\n",
    "print('------------------------------------------------')\n",
    "df_same_count = df_same_loc.groupby(['대여대여소명', '반납대여소명']).size().reset_index()\n",
    "df_same_count.columns = ['대여대여소명', '반납대여소명', '이용횟수']\n",
    "print(df_same_count.head())\n",
    "df_same_loc2 = df_same_mean.merge(df_same_count, left_on=['대여대여소명', '반납대여소명'], right_on=['대여대여소명', '반납대여소명'])\n",
    "print('------------------------------------------------')\n",
    "print(df_same_loc2.head())\n",
    "df_same_loc2.sort_values(by='이용시간(분)', ascending=False).head(10)"
   ]
  },
  {
   "cell_type": "code",
   "execution_count": 56,
   "metadata": {},
   "outputs": [
    {
     "data": {
      "text/html": [
       "<div>\n",
       "<style scoped>\n",
       "    .dataframe tbody tr th:only-of-type {\n",
       "        vertical-align: middle;\n",
       "    }\n",
       "\n",
       "    .dataframe tbody tr th {\n",
       "        vertical-align: top;\n",
       "    }\n",
       "\n",
       "    .dataframe thead th {\n",
       "        text-align: right;\n",
       "    }\n",
       "</style>\n",
       "<table border=\"1\" class=\"dataframe\">\n",
       "  <thead>\n",
       "    <tr style=\"text-align: right;\">\n",
       "      <th></th>\n",
       "      <th>대여대여소명</th>\n",
       "      <th>반납대여소명</th>\n",
       "      <th>이용시간(분)</th>\n",
       "      <th>이용횟수</th>\n",
       "    </tr>\n",
       "  </thead>\n",
       "  <tbody>\n",
       "    <tr>\n",
       "      <th>850</th>\n",
       "      <td>여의나루역 1번출구 앞</td>\n",
       "      <td>여의나루역 1번출구 앞</td>\n",
       "      <td>66.167304</td>\n",
       "      <td>1046</td>\n",
       "    </tr>\n",
       "    <tr>\n",
       "      <th>369</th>\n",
       "      <td>뚝섬유원지역 1번출구 앞</td>\n",
       "      <td>뚝섬유원지역 1번출구 앞</td>\n",
       "      <td>56.593333</td>\n",
       "      <td>900</td>\n",
       "    </tr>\n",
       "    <tr>\n",
       "      <th>646</th>\n",
       "      <td>서울숲 관리사무소</td>\n",
       "      <td>서울숲 관리사무소</td>\n",
       "      <td>57.178947</td>\n",
       "      <td>665</td>\n",
       "    </tr>\n",
       "    <tr>\n",
       "      <th>518</th>\n",
       "      <td>봉림교 교통섬</td>\n",
       "      <td>봉림교 교통섬</td>\n",
       "      <td>58.836096</td>\n",
       "      <td>543</td>\n",
       "    </tr>\n",
       "    <tr>\n",
       "      <th>404</th>\n",
       "      <td>마포구민체육센터 앞</td>\n",
       "      <td>마포구민체육센터 앞</td>\n",
       "      <td>57.975970</td>\n",
       "      <td>541</td>\n",
       "    </tr>\n",
       "    <tr>\n",
       "      <th>118</th>\n",
       "      <td>고속터미널역 8-1번, 8-2번 출구 사이</td>\n",
       "      <td>고속터미널역 8-1번, 8-2번 출구 사이</td>\n",
       "      <td>72.138144</td>\n",
       "      <td>485</td>\n",
       "    </tr>\n",
       "    <tr>\n",
       "      <th>905</th>\n",
       "      <td>옥수역 3번출구</td>\n",
       "      <td>옥수역 3번출구</td>\n",
       "      <td>55.855580</td>\n",
       "      <td>457</td>\n",
       "    </tr>\n",
       "    <tr>\n",
       "      <th>445</th>\n",
       "      <td>몽촌토성역 1번출구 옆</td>\n",
       "      <td>몽촌토성역 1번출구 옆</td>\n",
       "      <td>58.420513</td>\n",
       "      <td>390</td>\n",
       "    </tr>\n",
       "    <tr>\n",
       "      <th>253</th>\n",
       "      <td>노들역 1번출구</td>\n",
       "      <td>노들역 1번출구</td>\n",
       "      <td>63.424731</td>\n",
       "      <td>372</td>\n",
       "    </tr>\n",
       "    <tr>\n",
       "      <th>287</th>\n",
       "      <td>당산육갑문</td>\n",
       "      <td>당산육갑문</td>\n",
       "      <td>66.157738</td>\n",
       "      <td>336</td>\n",
       "    </tr>\n",
       "  </tbody>\n",
       "</table>\n",
       "</div>"
      ],
      "text/plain": [
       "                       대여대여소명                    반납대여소명    이용시간(분)  이용횟수\n",
       "850              여의나루역 1번출구 앞              여의나루역 1번출구 앞  66.167304  1046\n",
       "369             뚝섬유원지역 1번출구 앞             뚝섬유원지역 1번출구 앞  56.593333   900\n",
       "646                 서울숲 관리사무소                 서울숲 관리사무소  57.178947   665\n",
       "518                   봉림교 교통섬                   봉림교 교통섬  58.836096   543\n",
       "404                마포구민체육센터 앞                마포구민체육센터 앞  57.975970   541\n",
       "118   고속터미널역 8-1번, 8-2번 출구 사이   고속터미널역 8-1번, 8-2번 출구 사이  72.138144   485\n",
       "905                  옥수역 3번출구                  옥수역 3번출구  55.855580   457\n",
       "445              몽촌토성역 1번출구 옆              몽촌토성역 1번출구 옆  58.420513   390\n",
       "253                  노들역 1번출구                  노들역 1번출구  63.424731   372\n",
       "287                     당산육갑문                     당산육갑문  66.157738   336"
      ]
     },
     "execution_count": 56,
     "metadata": {},
     "output_type": "execute_result"
    }
   ],
   "source": [
    "# 이용횟수가 많은 곳의 평균 이용시간\n",
    "df_same_loc2.sort_values(by='이용횟수', ascending=False).head(10)"
   ]
  },
  {
   "cell_type": "code",
   "execution_count": 57,
   "metadata": {},
   "outputs": [
    {
     "data": {
      "text/plain": [
       "<matplotlib.axes._subplots.AxesSubplot at 0x1aa0c0e93c8>"
      ]
     },
     "execution_count": 57,
     "metadata": {},
     "output_type": "execute_result"
    },
    {
     "data": {
      "image/png": "[encoded data removed]",
      "text/plain": [
       "<Figure size 432x288 with 1 Axes>"
      ]
     },
     "metadata": {},
     "output_type": "display_data"
    }
   ],
   "source": [
    "df_same_loc2['이용횟수'].plot.hist()"
   ]
  },
  {
   "cell_type": "markdown",
   "metadata": {},
   "source": [
    "### 다른 대여|반납소"
   ]
  },
  {
   "cell_type": "code",
   "execution_count": 58,
   "metadata": {},
   "outputs": [
    {
     "data": {
      "text/plain": [
       "(520100, 24)"
      ]
     },
     "execution_count": 58,
     "metadata": {},
     "output_type": "execute_result"
    }
   ],
   "source": [
    "df_diff_loc = df.loc[df['같은대여반납소'] == False]\n",
    "df_diff_loc.shape"
   ]
  },
  {
   "cell_type": "code",
   "execution_count": 59,
   "metadata": {},
   "outputs": [
    {
     "name": "stdout",
     "output_type": "stream",
     "text": [
      "다른곳에서 대여, 반납이 이루어지는 자전거의 평균 이용시간 :  25.8342280331\n"
     ]
    },
    {
     "data": {
      "text/html": [
       "<div>\n",
       "<style scoped>\n",
       "    .dataframe tbody tr th:only-of-type {\n",
       "        vertical-align: middle;\n",
       "    }\n",
       "\n",
       "    .dataframe tbody tr th {\n",
       "        vertical-align: top;\n",
       "    }\n",
       "\n",
       "    .dataframe thead th {\n",
       "        text-align: right;\n",
       "    }\n",
       "</style>\n",
       "<table border=\"1\" class=\"dataframe\">\n",
       "  <thead>\n",
       "    <tr style=\"text-align: right;\">\n",
       "      <th></th>\n",
       "      <th>대여대여소명</th>\n",
       "      <th>반납대여소명</th>\n",
       "      <th>이용시간(분)</th>\n",
       "      <th>이용횟수</th>\n",
       "    </tr>\n",
       "  </thead>\n",
       "  <tbody>\n",
       "    <tr>\n",
       "      <th>94100</th>\n",
       "      <td>천왕역 4번출구 뒤</td>\n",
       "      <td>신정3동 현장민원실 앞</td>\n",
       "      <td>740.000000</td>\n",
       "      <td>1</td>\n",
       "    </tr>\n",
       "    <tr>\n",
       "      <th>72879</th>\n",
       "      <td>여의도고교 앞</td>\n",
       "      <td>보라매역 8번출구</td>\n",
       "      <td>651.000000</td>\n",
       "      <td>1</td>\n",
       "    </tr>\n",
       "    <tr>\n",
       "      <th>59814</th>\n",
       "      <td>성수역3번출구</td>\n",
       "      <td>논현역 7번출구</td>\n",
       "      <td>553.000000</td>\n",
       "      <td>1</td>\n",
       "    </tr>\n",
       "    <tr>\n",
       "      <th>70466</th>\n",
       "      <td>압구정파출소 앞</td>\n",
       "      <td>전농사거리 교통섬</td>\n",
       "      <td>506.000000</td>\n",
       "      <td>1</td>\n",
       "    </tr>\n",
       "    <tr>\n",
       "      <th>66230</th>\n",
       "      <td>신설동역8번출구</td>\n",
       "      <td>청계천 박물관 앞</td>\n",
       "      <td>504.000000</td>\n",
       "      <td>3</td>\n",
       "    </tr>\n",
       "    <tr>\n",
       "      <th>41979</th>\n",
       "      <td>방화역 4번출구앞</td>\n",
       "      <td>황금내근린공원</td>\n",
       "      <td>479.000000</td>\n",
       "      <td>1</td>\n",
       "    </tr>\n",
       "    <tr>\n",
       "      <th>1077</th>\n",
       "      <td>DMC역 2번출구 옆</td>\n",
       "      <td>홍은동 정원여중 입구</td>\n",
       "      <td>440.000000</td>\n",
       "      <td>2</td>\n",
       "    </tr>\n",
       "    <tr>\n",
       "      <th>84463</th>\n",
       "      <td>이태원지하보도</td>\n",
       "      <td>마포구청역</td>\n",
       "      <td>437.000000</td>\n",
       "      <td>2</td>\n",
       "    </tr>\n",
       "    <tr>\n",
       "      <th>84329</th>\n",
       "      <td>이태원관광특구입구</td>\n",
       "      <td>국립현대미술관</td>\n",
       "      <td>405.666667</td>\n",
       "      <td>3</td>\n",
       "    </tr>\n",
       "    <tr>\n",
       "      <th>15423</th>\n",
       "      <td>구로역 광장</td>\n",
       "      <td>유한양행앞</td>\n",
       "      <td>405.000000</td>\n",
       "      <td>1</td>\n",
       "    </tr>\n",
       "  </tbody>\n",
       "</table>\n",
       "</div>"
      ],
      "text/plain": [
       "             대여대여소명         반납대여소명     이용시간(분)  이용횟수\n",
       "94100    천왕역 4번출구 뒤   신정3동 현장민원실 앞  740.000000     1\n",
       "72879       여의도고교 앞      보라매역 8번출구  651.000000     1\n",
       "59814       성수역3번출구       논현역 7번출구  553.000000     1\n",
       "70466      압구정파출소 앞      전농사거리 교통섬  506.000000     1\n",
       "66230      신설동역8번출구      청계천 박물관 앞  504.000000     3\n",
       "41979     방화역 4번출구앞        황금내근린공원  479.000000     1\n",
       "1077    DMC역 2번출구 옆    홍은동 정원여중 입구  440.000000     2\n",
       "84463       이태원지하보도         마포구청역   437.000000     2\n",
       "84329     이태원관광특구입구        국립현대미술관  405.666667     3\n",
       "15423        구로역 광장          유한양행앞  405.000000     1"
      ]
     },
     "execution_count": 59,
     "metadata": {},
     "output_type": "execute_result"
    }
   ],
   "source": [
    "diff_loc_mean_time = df_diff_loc['이용시간(분)'].mean()\n",
    "print('다른곳에서 대여, 반납이 이루어지는 자전거의 평균 이용시간 : ', df_diff_loc['이용시간(분)'].mean())\n",
    "df_diff_mean = df_diff_loc.groupby(['대여대여소명', '반납대여소명'])['이용시간(분)'].mean().reset_index()\n",
    "df_diff_count = df_diff_loc.groupby(['대여대여소명', '반납대여소명']).size().reset_index()\n",
    "df_diff_count.columns = ['대여대여소명', '반납대여소명', '이용횟수']\n",
    "df_diff_loc2 = df_diff_mean.merge(df_diff_count, left_on=['대여대여소명', '반납대여소명'], right_on=['대여대여소명', '반납대여소명'])\n",
    "df_diff_loc2.sort_values(by='이용시간(분)', ascending=False).head(10)"
   ]
  },
  {
   "cell_type": "code",
   "execution_count": 60,
   "metadata": {},
   "outputs": [
    {
     "data": {
      "text/html": [
       "<div>\n",
       "<style scoped>\n",
       "    .dataframe tbody tr th:only-of-type {\n",
       "        vertical-align: middle;\n",
       "    }\n",
       "\n",
       "    .dataframe tbody tr th {\n",
       "        vertical-align: top;\n",
       "    }\n",
       "\n",
       "    .dataframe thead th {\n",
       "        text-align: right;\n",
       "    }\n",
       "</style>\n",
       "<table border=\"1\" class=\"dataframe\">\n",
       "  <thead>\n",
       "    <tr style=\"text-align: right;\">\n",
       "      <th></th>\n",
       "      <th>대여대여소명</th>\n",
       "      <th>반납대여소명</th>\n",
       "      <th>이용시간(분)</th>\n",
       "      <th>이용횟수</th>\n",
       "    </tr>\n",
       "  </thead>\n",
       "  <tbody>\n",
       "    <tr>\n",
       "      <th>99349</th>\n",
       "      <td>하늘채코오롱아파트 건너편</td>\n",
       "      <td>홍대입구역 2번출구 앞</td>\n",
       "      <td>10.240938</td>\n",
       "      <td>469</td>\n",
       "    </tr>\n",
       "    <tr>\n",
       "      <th>104360</th>\n",
       "      <td>홍대입구역 2번출구 앞</td>\n",
       "      <td>하늘채코오롱아파트 건너편</td>\n",
       "      <td>14.943734</td>\n",
       "      <td>391</td>\n",
       "    </tr>\n",
       "    <tr>\n",
       "      <th>86527</th>\n",
       "      <td>장승배기역 5번출구</td>\n",
       "      <td>노량진역 5번출구</td>\n",
       "      <td>8.200000</td>\n",
       "      <td>285</td>\n",
       "    </tr>\n",
       "    <tr>\n",
       "      <th>43695</th>\n",
       "      <td>봉림교 교통섬</td>\n",
       "      <td>도림천 신화교</td>\n",
       "      <td>17.679856</td>\n",
       "      <td>278</td>\n",
       "    </tr>\n",
       "    <tr>\n",
       "      <th>26686</th>\n",
       "      <td>도림천 신화교</td>\n",
       "      <td>봉림교 교통섬</td>\n",
       "      <td>14.248175</td>\n",
       "      <td>274</td>\n",
       "    </tr>\n",
       "    <tr>\n",
       "      <th>108597</th>\n",
       "      <td>청계산입구역 1번출구</td>\n",
       "      <td>언남초등학교 앞</td>\n",
       "      <td>8.184426</td>\n",
       "      <td>244</td>\n",
       "    </tr>\n",
       "    <tr>\n",
       "      <th>43745</th>\n",
       "      <td>봉림교 교통섬</td>\n",
       "      <td>서울신성초등학교</td>\n",
       "      <td>21.479339</td>\n",
       "      <td>242</td>\n",
       "    </tr>\n",
       "    <tr>\n",
       "      <th>72270</th>\n",
       "      <td>언남초등학교 앞</td>\n",
       "      <td>청계산입구역 1번출구</td>\n",
       "      <td>6.260504</td>\n",
       "      <td>238</td>\n",
       "    </tr>\n",
       "    <tr>\n",
       "      <th>7959</th>\n",
       "      <td>건국대학교 (입학정보관)</td>\n",
       "      <td>건국대학교 학생회관</td>\n",
       "      <td>12.218341</td>\n",
       "      <td>229</td>\n",
       "    </tr>\n",
       "    <tr>\n",
       "      <th>85076</th>\n",
       "      <td>자양나들목</td>\n",
       "      <td>뚝섬유원지역 1번출구 앞</td>\n",
       "      <td>8.204651</td>\n",
       "      <td>215</td>\n",
       "    </tr>\n",
       "  </tbody>\n",
       "</table>\n",
       "</div>"
      ],
      "text/plain": [
       "                대여대여소명          반납대여소명    이용시간(분)  이용횟수\n",
       "99349    하늘채코오롱아파트 건너편    홍대입구역 2번출구 앞  10.240938   469\n",
       "104360    홍대입구역 2번출구 앞   하늘채코오롱아파트 건너편  14.943734   391\n",
       "86527       장승배기역 5번출구       노량진역 5번출구   8.200000   285\n",
       "43695          봉림교 교통섬         도림천 신화교  17.679856   278\n",
       "26686          도림천 신화교         봉림교 교통섬  14.248175   274\n",
       "108597     청계산입구역 1번출구        언남초등학교 앞   8.184426   244\n",
       "43745          봉림교 교통섬        서울신성초등학교  21.479339   242\n",
       "72270         언남초등학교 앞     청계산입구역 1번출구   6.260504   238\n",
       "7959     건국대학교 (입학정보관)      건국대학교 학생회관  12.218341   229\n",
       "85076            자양나들목   뚝섬유원지역 1번출구 앞   8.204651   215"
      ]
     },
     "execution_count": 60,
     "metadata": {},
     "output_type": "execute_result"
    }
   ],
   "source": [
    "df_diff_loc2.sort_values(by='이용횟수', ascending=False).head(10)"
   ]
  },
  {
   "cell_type": "code",
   "execution_count": 61,
   "metadata": {},
   "outputs": [
    {
     "name": "stdout",
     "output_type": "stream",
     "text": [
      "같은 곳에서 대여반납이 이루어지는 자전거의 이용시간(분)이 다른 대여소의 대여반납 이용시간보다 27.35 분 많다.\n"
     ]
    }
   ],
   "source": [
    "rent_mean_time = same_loc_mean_time - diff_loc_mean_time\n",
    "print('같은 곳에서 대여반납이 이루어지는 자전거의 이용시간(분)이 다른 대여소의 대여반납 이용시간보다 {:,.2f} 분 많다.'.format(rent_mean_time))"
   ]
  },
  {
   "cell_type": "markdown",
   "metadata": {},
   "source": [
    "* 이용횟수가 많은 대여소라고 해서 평균이용시간이 평균보다 높지는 않다.\n",
    "* 하늘채코오롱아파트 건너편<->홍대입구역 2번출구 앞은 이용횟수가 가장 높은 대여반납소다.\n",
    "* 관련기사\n",
    "    * ['따릉이' 타고 가장 많이 다닌 경로는? - 통플러스](http://news.tongplus.com/site/data/html_dir/2018/10/24/2018102402585.html)\n",
    "    * [[ONE SHOT] 따릉이, ‘이곳’서 가장 많이 빌리고 ‘여기’서 가장 많이 탄다](https://news.joins.com/article/23003297)"
   ]
  },
  {
   "cell_type": "markdown",
   "metadata": {},
   "source": [
    "## 해당 기간동안 가장 많이 이용된 자전거는 몇 회 대여 되었을까?"
   ]
  },
  {
   "cell_type": "code",
   "execution_count": 62,
   "metadata": {},
   "outputs": [
    {
     "name": "stdout",
     "output_type": "stream",
     "text": [
      "대여된 자전거 수 : 12970\n",
      "가장 많이 대여된 자전거 번호 : SPB-18238\n",
      "가장 많이 대여된 자전거의 대여횟수 : 139\n"
     ]
    },
    {
     "data": {
      "text/plain": [
       "count        586304\n",
       "unique        12970\n",
       "top       SPB-18238\n",
       "freq            139\n",
       "Name: 자전거번호, dtype: object"
      ]
     },
     "execution_count": 62,
     "metadata": {},
     "output_type": "execute_result"
    }
   ],
   "source": [
    "bike_describe = df['자전거번호'].describe()\n",
    "print('대여된 자전거 수 :', bike_describe[1])\n",
    "print('가장 많이 대여된 자전거 번호 :', bike_describe[2])\n",
    "print('가장 많이 대여된 자전거의 대여횟수 :', bike_describe[3])\n",
    "bike_describe"
   ]
  },
  {
   "cell_type": "code",
   "execution_count": 63,
   "metadata": {},
   "outputs": [
    {
     "name": "stdout",
     "output_type": "stream",
     "text": [
      "해당 기간동안 자전거 하나당 평균 대여 수: 45.2046260601\n",
      "자전거 하나당 가장 많이 대여된 횟수: 139\n",
      "자전거 하나당 가장 적게 대여된 횟수: 1\n"
     ]
    }
   ],
   "source": [
    "bike_rent_counts = df['자전거번호'].value_counts().reset_index()\n",
    "bike_rent_counts.columns = ['자전거번호', '대여수']\n",
    "print('해당 기간동안 자전거 하나당 평균 대여 수:', bike_rent_counts['대여수'].mean())\n",
    "print('자전거 하나당 가장 많이 대여된 횟수:', bike_rent_counts['대여수'].max())\n",
    "print('자전거 하나당 가장 적게 대여된 횟수:', bike_rent_counts['대여수'].min())"
   ]
  },
  {
   "cell_type": "code",
   "execution_count": 64,
   "metadata": {},
   "outputs": [
    {
     "data": {
      "text/plain": [
       "<matplotlib.axes._subplots.AxesSubplot at 0x1aa08f5e3c8>"
      ]
     },
     "execution_count": 64,
     "metadata": {},
     "output_type": "execute_result"
    },
    {
     "data": {
      "image/png": "[encoded data removed]",
      "text/plain": [
       "<Figure size 432x288 with 1 Axes>"
      ]
     },
     "metadata": {},
     "output_type": "display_data"
    }
   ],
   "source": [
    "bike_rent_counts.plot.hist()"
   ]
  },
  {
   "cell_type": "code",
   "execution_count": 65,
   "metadata": {},
   "outputs": [
    {
     "data": {
      "text/html": [
       "<div>\n",
       "<style scoped>\n",
       "    .dataframe tbody tr th:only-of-type {\n",
       "        vertical-align: middle;\n",
       "    }\n",
       "\n",
       "    .dataframe tbody tr th {\n",
       "        vertical-align: top;\n",
       "    }\n",
       "\n",
       "    .dataframe thead th {\n",
       "        text-align: right;\n",
       "    }\n",
       "</style>\n",
       "<table border=\"1\" class=\"dataframe\">\n",
       "  <thead>\n",
       "    <tr style=\"text-align: right;\">\n",
       "      <th></th>\n",
       "      <th>자전거번호</th>\n",
       "      <th>대여일시</th>\n",
       "      <th>대여대여소번호</th>\n",
       "      <th>대여대여소명</th>\n",
       "      <th>대여거치대</th>\n",
       "      <th>반납일시</th>\n",
       "      <th>반납대여소번호</th>\n",
       "      <th>반납대여소명</th>\n",
       "      <th>반납거치대</th>\n",
       "      <th>이용시간(분)</th>\n",
       "      <th>...</th>\n",
       "      <th>대여시</th>\n",
       "      <th>대여분</th>\n",
       "      <th>대여요일</th>\n",
       "      <th>반납년</th>\n",
       "      <th>반납월</th>\n",
       "      <th>반납일</th>\n",
       "      <th>반납시</th>\n",
       "      <th>반납분</th>\n",
       "      <th>반납요일</th>\n",
       "      <th>같은대여반납소</th>\n",
       "    </tr>\n",
       "  </thead>\n",
       "  <tbody>\n",
       "    <tr>\n",
       "      <th>13282</th>\n",
       "      <td>SPB-18238</td>\n",
       "      <td>2018-06-16 13:01:05</td>\n",
       "      <td>2140</td>\n",
       "      <td>신림1교 교차로</td>\n",
       "      <td>6</td>\n",
       "      <td>2018-06-16 13:46:40</td>\n",
       "      <td>1975</td>\n",
       "      <td>대림역 1번 출입구 밑</td>\n",
       "      <td>4</td>\n",
       "      <td>45</td>\n",
       "      <td>...</td>\n",
       "      <td>13</td>\n",
       "      <td>1</td>\n",
       "      <td>5</td>\n",
       "      <td>2018</td>\n",
       "      <td>6</td>\n",
       "      <td>16</td>\n",
       "      <td>13</td>\n",
       "      <td>46</td>\n",
       "      <td>5</td>\n",
       "      <td>False</td>\n",
       "    </tr>\n",
       "    <tr>\n",
       "      <th>14861</th>\n",
       "      <td>SPB-18238</td>\n",
       "      <td>2018-06-16 13:47:21</td>\n",
       "      <td>1975</td>\n",
       "      <td>대림역 1번 출입구 밑</td>\n",
       "      <td>4</td>\n",
       "      <td>2018-06-16 14:17:53</td>\n",
       "      <td>2140</td>\n",
       "      <td>신림1교 교차로</td>\n",
       "      <td>6</td>\n",
       "      <td>30</td>\n",
       "      <td>...</td>\n",
       "      <td>13</td>\n",
       "      <td>47</td>\n",
       "      <td>5</td>\n",
       "      <td>2018</td>\n",
       "      <td>6</td>\n",
       "      <td>16</td>\n",
       "      <td>14</td>\n",
       "      <td>17</td>\n",
       "      <td>5</td>\n",
       "      <td>False</td>\n",
       "    </tr>\n",
       "    <tr>\n",
       "      <th>18639</th>\n",
       "      <td>SPB-18238</td>\n",
       "      <td>2018-06-16 15:25:52</td>\n",
       "      <td>2140</td>\n",
       "      <td>신림1교 교차로</td>\n",
       "      <td>6</td>\n",
       "      <td>2018-06-16 16:16:09</td>\n",
       "      <td>2140</td>\n",
       "      <td>신림1교 교차로</td>\n",
       "      <td>2</td>\n",
       "      <td>49</td>\n",
       "      <td>...</td>\n",
       "      <td>15</td>\n",
       "      <td>25</td>\n",
       "      <td>5</td>\n",
       "      <td>2018</td>\n",
       "      <td>6</td>\n",
       "      <td>16</td>\n",
       "      <td>16</td>\n",
       "      <td>16</td>\n",
       "      <td>5</td>\n",
       "      <td>True</td>\n",
       "    </tr>\n",
       "    <tr>\n",
       "      <th>22887</th>\n",
       "      <td>SPB-18238</td>\n",
       "      <td>2018-06-16 17:01:22</td>\n",
       "      <td>2140</td>\n",
       "      <td>신림1교 교차로</td>\n",
       "      <td>2</td>\n",
       "      <td>2018-06-16 18:39:24</td>\n",
       "      <td>2140</td>\n",
       "      <td>신림1교 교차로</td>\n",
       "      <td>1</td>\n",
       "      <td>97</td>\n",
       "      <td>...</td>\n",
       "      <td>17</td>\n",
       "      <td>1</td>\n",
       "      <td>5</td>\n",
       "      <td>2018</td>\n",
       "      <td>6</td>\n",
       "      <td>16</td>\n",
       "      <td>18</td>\n",
       "      <td>39</td>\n",
       "      <td>5</td>\n",
       "      <td>True</td>\n",
       "    </tr>\n",
       "    <tr>\n",
       "      <th>28700</th>\n",
       "      <td>SPB-18238</td>\n",
       "      <td>2018-06-16 18:43:39</td>\n",
       "      <td>2140</td>\n",
       "      <td>신림1교 교차로</td>\n",
       "      <td>1</td>\n",
       "      <td>2018-06-16 19:21:39</td>\n",
       "      <td>2171</td>\n",
       "      <td>서울대입구역 5번출구</td>\n",
       "      <td>12</td>\n",
       "      <td>37</td>\n",
       "      <td>...</td>\n",
       "      <td>18</td>\n",
       "      <td>43</td>\n",
       "      <td>5</td>\n",
       "      <td>2018</td>\n",
       "      <td>6</td>\n",
       "      <td>16</td>\n",
       "      <td>19</td>\n",
       "      <td>21</td>\n",
       "      <td>5</td>\n",
       "      <td>False</td>\n",
       "    </tr>\n",
       "  </tbody>\n",
       "</table>\n",
       "<p>5 rows × 24 columns</p>\n",
       "</div>"
      ],
      "text/plain": [
       "           자전거번호                대여일시 대여대여소번호         대여대여소명  대여거치대  \\\n",
       "13282  SPB-18238 2018-06-16 13:01:05    2140       신림1교 교차로      6   \n",
       "14861  SPB-18238 2018-06-16 13:47:21    1975   대림역 1번 출입구 밑      4   \n",
       "18639  SPB-18238 2018-06-16 15:25:52    2140       신림1교 교차로      6   \n",
       "22887  SPB-18238 2018-06-16 17:01:22    2140       신림1교 교차로      2   \n",
       "28700  SPB-18238 2018-06-16 18:43:39    2140       신림1교 교차로      1   \n",
       "\n",
       "                     반납일시 반납대여소번호         반납대여소명  반납거치대  이용시간(분)   ...     \\\n",
       "13282 2018-06-16 13:46:40    1975   대림역 1번 출입구 밑      4       45   ...      \n",
       "14861 2018-06-16 14:17:53    2140       신림1교 교차로      6       30   ...      \n",
       "18639 2018-06-16 16:16:09    2140       신림1교 교차로      2       49   ...      \n",
       "22887 2018-06-16 18:39:24    2140       신림1교 교차로      1       97   ...      \n",
       "28700 2018-06-16 19:21:39    2171    서울대입구역 5번출구     12       37   ...      \n",
       "\n",
       "       대여시  대여분  대여요일   반납년  반납월  반납일  반납시  반납분  반납요일  같은대여반납소  \n",
       "13282   13    1     5  2018    6   16   13   46     5    False  \n",
       "14861   13   47     5  2018    6   16   14   17     5    False  \n",
       "18639   15   25     5  2018    6   16   16   16     5     True  \n",
       "22887   17    1     5  2018    6   16   18   39     5     True  \n",
       "28700   18   43     5  2018    6   16   19   21     5    False  \n",
       "\n",
       "[5 rows x 24 columns]"
      ]
     },
     "execution_count": 65,
     "metadata": {},
     "output_type": "execute_result"
    }
   ],
   "source": [
    "# 가장 많이 대여된 자전거의 대여이력\n",
    "most_bike_df = df.loc[df['자전거번호'] == bike_describe[2]]\n",
    "most_bike_df.head()"
   ]
  },
  {
   "cell_type": "markdown",
   "metadata": {},
   "source": [
    "* 같은 자전거가 동일 시간대에 여러번 대여된 이력을 확인 할 수 있다. 좀 더 확인이 필요하다."
   ]
  },
  {
   "cell_type": "code",
   "execution_count": 66,
   "metadata": {},
   "outputs": [
    {
     "data": {
      "text/plain": [
       "1122    57\n",
       "2140     4\n",
       "623      4\n",
       "2139     3\n",
       "106      2\n",
       "Name: 대여대여소번호, dtype: int64"
      ]
     },
     "execution_count": 66,
     "metadata": {},
     "output_type": "execute_result"
    }
   ],
   "source": [
    "most_bike_df['대여대여소번호'].value_counts().head()"
   ]
  },
  {
   "cell_type": "code",
   "execution_count": 67,
   "metadata": {},
   "outputs": [
    {
     "data": {
      "text/plain": [
       "2018-06-18 18:58:02    22\n",
       "2018-06-18 18:49:46    18\n",
       "2018-06-18 18:55:24    15\n",
       "2018-06-18 19:03:29     1\n",
       "2018-06-18 17:58:03     1\n",
       "Name: 대여일시, dtype: int64"
      ]
     },
     "execution_count": 67,
     "metadata": {},
     "output_type": "execute_result"
    }
   ],
   "source": [
    "most_bike_df[most_bike_df['대여대여소번호'] == '1122']['대여일시'].value_counts()"
   ]
  },
  {
   "cell_type": "code",
   "execution_count": 68,
   "metadata": {},
   "outputs": [
    {
     "data": {
      "text/plain": [
       "2018-06-18 18:59:27    3\n",
       "2018-06-18 18:59:36    3\n",
       "2018-06-18 18:55:45    3\n",
       "2018-06-18 18:55:58    3\n",
       "2018-06-18 18:56:12    3\n",
       "2018-06-18 18:56:24    3\n",
       "2018-06-18 18:58:21    3\n",
       "2018-06-18 18:58:36    3\n",
       "2018-06-18 18:59:07    3\n",
       "2018-06-18 18:53:48    3\n",
       "2018-06-18 18:55:32    3\n",
       "2018-06-18 19:00:01    3\n",
       "2018-06-18 18:52:28    3\n",
       "2018-06-18 18:52:53    3\n",
       "2018-06-18 18:53:01    3\n",
       "2018-06-18 18:51:10    2\n",
       "2018-06-18 18:58:52    2\n",
       "2018-06-18 18:53:29    2\n",
       "2018-06-18 18:58:11    1\n",
       "2018-06-18 18:58:51    1\n",
       "2018-06-18 18:51:09    1\n",
       "2018-06-18 18:49:05    1\n",
       "2018-06-18 18:53:28    1\n",
       "2018-06-18 20:09:26    1\n",
       "Name: 반납일시, dtype: int64"
      ]
     },
     "execution_count": 68,
     "metadata": {},
     "output_type": "execute_result"
    }
   ],
   "source": [
    "most_bike_df[most_bike_df['대여대여소번호'] == '1122']['반납일시'].value_counts()"
   ]
  },
  {
   "cell_type": "code",
   "execution_count": 69,
   "metadata": {},
   "outputs": [
    {
     "data": {
      "text/plain": [
       " 황금내근린공원            57\n",
       " 신림1교 교차로            4\n",
       " 서울시립대 정문 앞          4\n",
       " 서울신성초등학교            3\n",
       " 서울대입구역 5번출구         2\n",
       " 산업은행 앞              2\n",
       " 가좌역 4번출구 앞          2\n",
       " 안암로터리 버스정류장 앞       2\n",
       " 베르가모앞               2\n",
       " 합정역 7번출구 앞          2\n",
       " 광진광장 교통섬            2\n",
       " 성수역3번출구             2\n",
       " 신촌역(2호선) 7번출구 앞     1\n",
       " 청계8가 사거리            1\n",
       " 정릉현대힐스테이트 1차 후문     1\n",
       " 도선동 주민센터 앞          1\n",
       " 북가좌1동 주민센터          1\n",
       " 충정로역 7번출구 뒤         1\n",
       " 청와대앞길               1\n",
       " 동원사거리               1\n",
       " 광흥창역 2번출구 앞         1\n",
       " 가리봉동주민센터            1\n",
       " 돈암성당 옆              1\n",
       " 홈플러스 면목동점           1\n",
       " 포르투갈 대사관 앞          1\n",
       " 영동대교 북단             1\n",
       " 광진메디칼 앞             1\n",
       " 마포구민체육센터 앞          1\n",
       " (구)합정동 주민센터         1\n",
       " 삼각산동 주민센터           1\n",
       "                    ..\n",
       " 동성중학교 앞             1\n",
       " 마포역 1번출구 뒤          1\n",
       " 사루비아 빌딩 앞           1\n",
       " IFC몰                1\n",
       " 용답역 1번 출구           1\n",
       " 대림역 1번 출입구 밑        1\n",
       " 맥스타일 앞              1\n",
       " 군자역 7번출구뒤           1\n",
       " 돈암초교 입구             1\n",
       " 신설동역8번출구            1\n",
       " 세운스퀘어 앞             1\n",
       " 대림역4번출구             1\n",
       " 청량리 기업은행 앞          1\n",
       " 신림동걷고싶은문화의거리입구      1\n",
       " 신림역 5번출구            1\n",
       " 신설동역 10번출구 앞        1\n",
       " 구로디지털단지역 앞          1\n",
       " 서강대 정문 건너편          1\n",
       " 종각역 5번출구            1\n",
       " 삼부르네상스파크빌           1\n",
       " 성수아카데미타워 앞          1\n",
       " 성수2가1동 공영주차장 인근     1\n",
       " 동대문역 8번 출구          1\n",
       " 세종사이버대학교            1\n",
       " 종로3가역 2번출구 뒤        1\n",
       " 북성초교                1\n",
       " 옥수역 3번출구            1\n",
       " 종로구청 옆              1\n",
       " 상명대입구               1\n",
       " 봉림교 교통섬             1\n",
       "Name: 대여대여소명, Length: 67, dtype: int64"
      ]
     },
     "execution_count": 69,
     "metadata": {},
     "output_type": "execute_result"
    }
   ],
   "source": [
    "most_bike_df['대여대여소명'].value_counts()"
   ]
  },
  {
   "cell_type": "code",
   "execution_count": 199,
   "metadata": {},
   "outputs": [
    {
     "data": {
      "text/plain": [
       "array([' 신림1교 교차로', ' 대림역 1번 출입구 밑', ' 서울대입구역 5번출구', ' 봉림교 교통섬',\n",
       "       ' 서울신성초등학교', ' 구로디지털단지역 앞', ' 대림역4번출구', ' 삼부르네상스파크빌', ' 가산동 주민센터',\n",
       "       ' 가리봉동주민센터', ' 신림역 5번출구', ' 신림동걷고싶은문화의거리입구', ' 대방역6번출구', ' 산업은행 앞',\n",
       "       ' IFC몰', ' 황금내근린공원', ' 서빙고동 주민센터 앞', ' 북가좌1동 주민센터 ', ' 가좌역 4번출구 앞',\n",
       "       ' 상명대입구', ' 청와대앞길', ' 종로구청 옆', ' 삼각산동 주민센터', ' 정릉현대힐스테이트 1차 후문',\n",
       "       ' 돈암초교 입구', ' 동성중학교 앞', ' 돈암성당 옆', ' 맥스타일 앞', ' 포르투갈 대사관 앞',\n",
       "       ' 종로3가역 2번출구 뒤', ' 청계8가 사거리', ' 안암로터리 버스정류장 앞', ' 서울시립대 정문 앞',\n",
       "       ' 청량리 기업은행 앞', ' 용답역 1번 출구', ' 옥수역 3번출구', ' 청계천 생태교실 앞', ' 베르가모앞',\n",
       "       ' 합정역 7번출구 앞', ' (구)합정동 주민센터', ' 마포구민체육센터 앞', ' 사루비아 빌딩 앞',\n",
       "       ' KB국민은행 염창역 지점 앞', ' 마포역 1번출구 뒤', ' 신촌역(2호선) 7번출구 앞',\n",
       "       ' 광흥창역 2번출구 앞', ' 서강대 정문 건너편', ' 북성초교', ' 충정로역 7번출구 뒤', ' 종각역 5번출구',\n",
       "       ' 세운스퀘어 앞', ' 동대문역 8번 출구', ' 신설동역 10번출구 앞', ' 도선동 주민센터 앞',\n",
       "       ' 신설동역8번출구', ' 영동대교 북단', ' 성수역3번출구', ' 성수2가1동 공영주차장 인근',\n",
       "       ' 광진광장 교통섬', ' 광진메디칼 앞', ' 어린이대공원역6번출구', ' 동원사거리', ' 세종사이버대학교',\n",
       "       ' 군자역 7번출구뒤', ' 군자지하보도 앞', ' 성수아카데미타워 앞', ' 홈플러스 면목동점'], dtype=object)"
      ]
     },
     "execution_count": 199,
     "metadata": {},
     "output_type": "execute_result"
    }
   ],
   "source": [
    "rent_station = most_bike_df['대여대여소명'].unique()\n",
    "rent_station"
   ]
  },
  {
   "cell_type": "code",
   "execution_count": 200,
   "metadata": {},
   "outputs": [
    {
     "data": {
      "text/plain": [
       "['신림1교 교차로',\n",
       " '대림역 1번 출입구 밑',\n",
       " '서울대입구역 5번출구',\n",
       " '봉림교 교통섬',\n",
       " '서울신성초등학교',\n",
       " '구로디지털단지역 앞',\n",
       " '대림역4번출구',\n",
       " '삼부르네상스파크빌',\n",
       " '가산동 주민센터',\n",
       " '가리봉동주민센터',\n",
       " '신림역 5번출구',\n",
       " '신림동걷고싶은문화의거리입구',\n",
       " '대방역6번출구',\n",
       " '산업은행 앞',\n",
       " 'IFC몰',\n",
       " '황금내근린공원',\n",
       " '서빙고동 주민센터 앞',\n",
       " '북가좌1동 주민센터',\n",
       " '가좌역 4번출구 앞',\n",
       " '상명대입구',\n",
       " '청와대앞길',\n",
       " '종로구청 옆',\n",
       " '삼각산동 주민센터',\n",
       " '정릉현대힐스테이트 1차 후문',\n",
       " '돈암초교 입구',\n",
       " '동성중학교 앞',\n",
       " '돈암성당 옆',\n",
       " '맥스타일 앞',\n",
       " '포르투갈 대사관 앞',\n",
       " '종로3가역 2번출구 뒤',\n",
       " '청계8가 사거리',\n",
       " '안암로터리 버스정류장 앞',\n",
       " '서울시립대 정문 앞',\n",
       " '청량리 기업은행 앞',\n",
       " '용답역 1번 출구',\n",
       " '옥수역 3번출구',\n",
       " '청계천 생태교실 앞',\n",
       " '베르가모앞',\n",
       " '합정역 7번출구 앞',\n",
       " '(구)합정동 주민센터',\n",
       " '마포구민체육센터 앞',\n",
       " '사루비아 빌딩 앞',\n",
       " 'KB국민은행 염창역 지점 앞',\n",
       " '마포역 1번출구 뒤',\n",
       " '신촌역(2호선) 7번출구 앞',\n",
       " '광흥창역 2번출구 앞',\n",
       " '서강대 정문 건너편',\n",
       " '북성초교',\n",
       " '충정로역 7번출구 뒤',\n",
       " '종각역 5번출구',\n",
       " '세운스퀘어 앞',\n",
       " '동대문역 8번 출구',\n",
       " '신설동역 10번출구 앞',\n",
       " '도선동 주민센터 앞',\n",
       " '신설동역8번출구',\n",
       " '영동대교 북단',\n",
       " '성수역3번출구',\n",
       " '성수2가1동 공영주차장 인근',\n",
       " '광진광장 교통섬',\n",
       " '광진메디칼 앞',\n",
       " '어린이대공원역6번출구',\n",
       " '동원사거리',\n",
       " '세종사이버대학교',\n",
       " '군자역 7번출구뒤',\n",
       " '군자지하보도 앞',\n",
       " '성수아카데미타워 앞',\n",
       " '홈플러스 면목동점']"
      ]
     },
     "execution_count": 200,
     "metadata": {},
     "output_type": "execute_result"
    }
   ],
   "source": [
    "# 대여소명 앞에 들어간 공백을 제거합니다.\n",
    "bike_move = []\n",
    "for s in rent_station:\n",
    "    bike_move.append(s.strip())\n",
    "    \n",
    "bike_move    "
   ]
  },
  {
   "cell_type": "code",
   "execution_count": 206,
   "metadata": {},
   "outputs": [
    {
     "name": "stdout",
     "output_type": "stream",
     "text": [
      "(1463, 5)\n"
     ]
    },
    {
     "data": {
      "text/html": [
       "<div>\n",
       "<style scoped>\n",
       "    .dataframe tbody tr th:only-of-type {\n",
       "        vertical-align: middle;\n",
       "    }\n",
       "\n",
       "    .dataframe tbody tr th {\n",
       "        vertical-align: top;\n",
       "    }\n",
       "\n",
       "    .dataframe thead th {\n",
       "        text-align: right;\n",
       "    }\n",
       "</style>\n",
       "<table border=\"1\" class=\"dataframe\">\n",
       "  <thead>\n",
       "    <tr style=\"text-align: right;\">\n",
       "      <th></th>\n",
       "      <th>대여소</th>\n",
       "      <th>상태</th>\n",
       "      <th>주소</th>\n",
       "      <th>위도</th>\n",
       "      <th>경도</th>\n",
       "    </tr>\n",
       "  </thead>\n",
       "  <tbody>\n",
       "    <tr>\n",
       "      <th>0</th>\n",
       "      <td>광진교 남단 사거리(디지털프라자앞)</td>\n",
       "      <td>운영중</td>\n",
       "      <td>서울특별시 강동구 구천면로 171 376 남단사거리</td>\n",
       "      <td>37.541805</td>\n",
       "      <td>127.124718</td>\n",
       "    </tr>\n",
       "    <tr>\n",
       "      <th>1</th>\n",
       "      <td>해공공원(천호동)</td>\n",
       "      <td>운영중</td>\n",
       "      <td>서울특별시 강동구 올림픽로 702 265</td>\n",
       "      <td>37.545219</td>\n",
       "      <td>127.125916</td>\n",
       "    </tr>\n",
       "    <tr>\n",
       "      <th>2</th>\n",
       "      <td>해공도서관앞</td>\n",
       "      <td>운영중</td>\n",
       "      <td>서울특별시 강동구 올림픽로 702 367</td>\n",
       "      <td>37.543915</td>\n",
       "      <td>127.125458</td>\n",
       "    </tr>\n",
       "    <tr>\n",
       "      <th>3</th>\n",
       "      <td>삼성광나루아파트 버스정류장</td>\n",
       "      <td>운영중</td>\n",
       "      <td>서울특별시 강동구 상암로3길 77 암사동 534</td>\n",
       "      <td>37.553349</td>\n",
       "      <td>127.128860</td>\n",
       "    </tr>\n",
       "    <tr>\n",
       "      <th>4</th>\n",
       "      <td>롯데캐슬 115동앞</td>\n",
       "      <td>운영중</td>\n",
       "      <td>서울특별시 강동구 양재대로 1665 명일동 304</td>\n",
       "      <td>37.554920</td>\n",
       "      <td>127.142799</td>\n",
       "    </tr>\n",
       "  </tbody>\n",
       "</table>\n",
       "</div>"
      ],
      "text/plain": [
       "                   대여소   상태                            주소         위도  \\\n",
       "0  광진교 남단 사거리(디지털프라자앞)  운영중  서울특별시 강동구 구천면로 171 376 남단사거리  37.541805   \n",
       "1            해공공원(천호동)  운영중        서울특별시 강동구 올림픽로 702 265  37.545219   \n",
       "2               해공도서관앞  운영중        서울특별시 강동구 올림픽로 702 367  37.543915   \n",
       "3       삼성광나루아파트 버스정류장  운영중    서울특별시 강동구 상암로3길 77 암사동 534  37.553349   \n",
       "4           롯데캐슬 115동앞  운영중   서울특별시 강동구 양재대로 1665 명일동 304  37.554920   \n",
       "\n",
       "           경도  \n",
       "0  127.124718  \n",
       "1  127.125916  \n",
       "2  127.125458  \n",
       "3  127.128860  \n",
       "4  127.142799  "
      ]
     },
     "execution_count": 206,
     "metadata": {},
     "output_type": "execute_result"
    }
   ],
   "source": [
    "stations = pd.read_csv('data/bike_rent_station.csv')\n",
    "print(stations.shape)\n",
    "stations.head()"
   ]
  },
  {
   "cell_type": "code",
   "execution_count": 207,
   "metadata": {},
   "outputs": [
    {
     "name": "stdout",
     "output_type": "stream",
     "text": [
      "(67, 1)\n"
     ]
    },
    {
     "data": {
      "text/html": [
       "<div>\n",
       "<style scoped>\n",
       "    .dataframe tbody tr th:only-of-type {\n",
       "        vertical-align: middle;\n",
       "    }\n",
       "\n",
       "    .dataframe tbody tr th {\n",
       "        vertical-align: top;\n",
       "    }\n",
       "\n",
       "    .dataframe thead th {\n",
       "        text-align: right;\n",
       "    }\n",
       "</style>\n",
       "<table border=\"1\" class=\"dataframe\">\n",
       "  <thead>\n",
       "    <tr style=\"text-align: right;\">\n",
       "      <th></th>\n",
       "      <th>대여소</th>\n",
       "    </tr>\n",
       "  </thead>\n",
       "  <tbody>\n",
       "    <tr>\n",
       "      <th>0</th>\n",
       "      <td>신림1교 교차로</td>\n",
       "    </tr>\n",
       "    <tr>\n",
       "      <th>1</th>\n",
       "      <td>대림역 1번 출입구 밑</td>\n",
       "    </tr>\n",
       "    <tr>\n",
       "      <th>2</th>\n",
       "      <td>서울대입구역 5번출구</td>\n",
       "    </tr>\n",
       "    <tr>\n",
       "      <th>3</th>\n",
       "      <td>봉림교 교통섬</td>\n",
       "    </tr>\n",
       "    <tr>\n",
       "      <th>4</th>\n",
       "      <td>서울신성초등학교</td>\n",
       "    </tr>\n",
       "  </tbody>\n",
       "</table>\n",
       "</div>"
      ],
      "text/plain": [
       "            대여소\n",
       "0      신림1교 교차로\n",
       "1  대림역 1번 출입구 밑\n",
       "2   서울대입구역 5번출구\n",
       "3       봉림교 교통섬\n",
       "4      서울신성초등학교"
      ]
     },
     "execution_count": 207,
     "metadata": {},
     "output_type": "execute_result"
    }
   ],
   "source": [
    "bike_move_df = pd.DataFrame(bike_move)\n",
    "bike_move_df.columns = ['대여소']\n",
    "print(bike_move_df.shape)\n",
    "bike_move_df.head()"
   ]
  },
  {
   "cell_type": "code",
   "execution_count": 208,
   "metadata": {},
   "outputs": [
    {
     "data": {
      "text/plain": [
       "(67, 5)"
      ]
     },
     "execution_count": 208,
     "metadata": {},
     "output_type": "execute_result"
    }
   ],
   "source": [
    "bike_move_df = bike_move_df.merge(stations, left_on='대여소', right_on='대여소', how='left')\n",
    "bike_move_df.shape"
   ]
  },
  {
   "cell_type": "code",
   "execution_count": 209,
   "metadata": {},
   "outputs": [
    {
     "data": {
      "text/html": [
       "<div>\n",
       "<style scoped>\n",
       "    .dataframe tbody tr th:only-of-type {\n",
       "        vertical-align: middle;\n",
       "    }\n",
       "\n",
       "    .dataframe tbody tr th {\n",
       "        vertical-align: top;\n",
       "    }\n",
       "\n",
       "    .dataframe thead th {\n",
       "        text-align: right;\n",
       "    }\n",
       "</style>\n",
       "<table border=\"1\" class=\"dataframe\">\n",
       "  <thead>\n",
       "    <tr style=\"text-align: right;\">\n",
       "      <th></th>\n",
       "      <th>대여소</th>\n",
       "      <th>상태</th>\n",
       "      <th>주소</th>\n",
       "      <th>위도</th>\n",
       "      <th>경도</th>\n",
       "    </tr>\n",
       "  </thead>\n",
       "  <tbody>\n",
       "    <tr>\n",
       "      <th>0</th>\n",
       "      <td>신림1교 교차로</td>\n",
       "      <td>운영중</td>\n",
       "      <td>서울특별시 관악구 신림로 270 관악구 신림동 808-263</td>\n",
       "      <td>37.478428</td>\n",
       "      <td>126.931862</td>\n",
       "    </tr>\n",
       "    <tr>\n",
       "      <th>1</th>\n",
       "      <td>대림역 1번 출입구 밑</td>\n",
       "      <td>운영중</td>\n",
       "      <td>서울특별시 구로구 도림천로 351 대림역 1번 출입구 밑</td>\n",
       "      <td>37.492580</td>\n",
       "      <td>126.894737</td>\n",
       "    </tr>\n",
       "    <tr>\n",
       "      <th>2</th>\n",
       "      <td>서울대입구역 5번출구</td>\n",
       "      <td>운영중</td>\n",
       "      <td>서울특별시 관악구 남부순환로 1817 서울대입구역 5번출구</td>\n",
       "      <td>37.481548</td>\n",
       "      <td>126.952003</td>\n",
       "    </tr>\n",
       "    <tr>\n",
       "      <th>3</th>\n",
       "      <td>봉림교 교통섬</td>\n",
       "      <td>운영중</td>\n",
       "      <td>서울특별시 관악구 관천로 52 관악구 신림동 1433-150</td>\n",
       "      <td>37.484230</td>\n",
       "      <td>126.926392</td>\n",
       "    </tr>\n",
       "    <tr>\n",
       "      <th>4</th>\n",
       "      <td>서울신성초등학교</td>\n",
       "      <td>운영중</td>\n",
       "      <td>서울특별시 관악구 신림로 114 서울신성초등학교</td>\n",
       "      <td>37.471165</td>\n",
       "      <td>126.937019</td>\n",
       "    </tr>\n",
       "  </tbody>\n",
       "</table>\n",
       "</div>"
      ],
      "text/plain": [
       "            대여소   상태                                 주소         위도          경도\n",
       "0      신림1교 교차로  운영중  서울특별시 관악구 신림로 270 관악구 신림동 808-263  37.478428  126.931862\n",
       "1  대림역 1번 출입구 밑  운영중    서울특별시 구로구 도림천로 351 대림역 1번 출입구 밑  37.492580  126.894737\n",
       "2   서울대입구역 5번출구  운영중   서울특별시 관악구 남부순환로 1817 서울대입구역 5번출구  37.481548  126.952003\n",
       "3       봉림교 교통섬  운영중  서울특별시 관악구 관천로 52 관악구 신림동 1433-150  37.484230  126.926392\n",
       "4      서울신성초등학교  운영중         서울특별시 관악구 신림로 114 서울신성초등학교  37.471165  126.937019"
      ]
     },
     "execution_count": 209,
     "metadata": {},
     "output_type": "execute_result"
    }
   ],
   "source": [
    "bike_move_df.head()"
   ]
  },
  {
   "cell_type": "code",
   "execution_count": 210,
   "metadata": {},
   "outputs": [
    {
     "data": {
      "text/plain": [
       "대여소    0\n",
       "상태     2\n",
       "주소     2\n",
       "위도     2\n",
       "경도     2\n",
       "dtype: int64"
      ]
     },
     "execution_count": 210,
     "metadata": {},
     "output_type": "execute_result"
    }
   ],
   "source": [
    "bike_move_df.isnull().sum()"
   ]
  },
  {
   "cell_type": "markdown",
   "metadata": {},
   "source": [
    "## 가장 많이 대여된 자전거가 거쳐간 대여소"
   ]
  },
  {
   "cell_type": "code",
   "execution_count": 211,
   "metadata": {},
   "outputs": [
    {
     "data": {
      "text/html": [
       "<div>\n",
       "<style scoped>\n",
       "    .dataframe tbody tr th:only-of-type {\n",
       "        vertical-align: middle;\n",
       "    }\n",
       "\n",
       "    .dataframe tbody tr th {\n",
       "        vertical-align: top;\n",
       "    }\n",
       "\n",
       "    .dataframe thead th {\n",
       "        text-align: right;\n",
       "    }\n",
       "</style>\n",
       "<table border=\"1\" class=\"dataframe\">\n",
       "  <thead>\n",
       "    <tr style=\"text-align: right;\">\n",
       "      <th></th>\n",
       "      <th>대여소</th>\n",
       "      <th>상태</th>\n",
       "      <th>주소</th>\n",
       "      <th>위도</th>\n",
       "      <th>경도</th>\n",
       "    </tr>\n",
       "  </thead>\n",
       "  <tbody>\n",
       "    <tr>\n",
       "      <th>23</th>\n",
       "      <td>정릉현대힐스테이트 1차 후문</td>\n",
       "      <td>NaN</td>\n",
       "      <td>NaN</td>\n",
       "      <td>NaN</td>\n",
       "      <td>NaN</td>\n",
       "    </tr>\n",
       "    <tr>\n",
       "      <th>63</th>\n",
       "      <td>군자역 7번출구뒤</td>\n",
       "      <td>NaN</td>\n",
       "      <td>NaN</td>\n",
       "      <td>NaN</td>\n",
       "      <td>NaN</td>\n",
       "    </tr>\n",
       "  </tbody>\n",
       "</table>\n",
       "</div>"
      ],
      "text/plain": [
       "                대여소   상태   주소  위도  경도\n",
       "23  정릉현대힐스테이트 1차 후문  NaN  NaN NaN NaN\n",
       "63        군자역 7번출구뒤  NaN  NaN NaN NaN"
      ]
     },
     "execution_count": 211,
     "metadata": {},
     "output_type": "execute_result"
    }
   ],
   "source": [
    "# 정보가 없는 대여소\n",
    "bike_move_df.loc[bike_move_df['경도'].isnull()]"
   ]
  },
  {
   "cell_type": "code",
   "execution_count": 76,
   "metadata": {},
   "outputs": [],
   "source": [
    "#!pip install folium"
   ]
  },
  {
   "cell_type": "code",
   "execution_count": 77,
   "metadata": {},
   "outputs": [
    {
     "data": {
      "text/html": [
       "<div style=\"width:100%;\"><div style=\"position:relative;width:100%;height:0;padding-bottom:60%;\"><iframe src=\"data:text/html;charset=utf-8;base64,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\" style=\"position:absolute;width:100%;height:100%;left:0;top:0;border:none !important;\" allowfullscreen webkitallowfullscreen mozallowfullscreen></iframe></div></div>"
      ],
      "text/plain": [
       "<folium.folium.Map at 0x1dfa26f69b0>"
      ]
     },
     "execution_count": 77,
     "metadata": {},
     "output_type": "execute_result"
    }
   ],
   "source": [
    "# 지도 표현을 위해 folium 을 import 한다.\n",
    "# 데이터 프레임에서 위도와 경도의 평균값을 구한다. 이 값으로 지도의 중심이 될 좌표를 정한다.\n",
    "# zoom_start는 지도를 얼마나 확대해서 볼것인지다.\n",
    "# tiles는 지도의 스타일이다.\n",
    "import folium \n",
    "\n",
    "geo_df = bike_move_df\n",
    "map = folium.Map(location=[geo_df['위도'].mean(), geo_df['경도'].mean()], zoom_start=12, tiles='Stamen Toner')\n",
    "\n",
    "for n in geo_df.index:\n",
    "    if geo_df.loc[n, '위도'] > 0 and geo_df.loc[n, '경도'] > 0 :\n",
    "        loc_name = geo_df.loc[n, '대여소']\n",
    "\n",
    "        icon_color = 'red'\n",
    "        folium.Circle(\n",
    "            location=[geo_df.loc[n, '위도'], geo_df.loc[n, '경도']],\n",
    "            popup=loc_name,\n",
    "            radius=50,\n",
    "            color=icon_color,\n",
    "            fill=True,\n",
    "            fill_color=icon_color\n",
    "        ).add_to(map)\n",
    "    \n",
    "map"
   ]
  },
  {
   "cell_type": "code",
   "execution_count": null,
   "metadata": {},
   "outputs": [],
   "source": []
  }
 ],
 "metadata": {
  "kernelspec": {
   "display_name": "Python 3",
   "language": "python",
   "name": "python3"
  },
  "language_info": {
   "codemirror_mode": {
    "name": "ipython",
    "version": 3
   },
   "file_extension": ".py",
   "mimetype": "text/x-python",
   "name": "python",
   "nbconvert_exporter": "python",
   "pygments_lexer": "ipython3",
   "version": "3.6.1"
  }
 },
 "nbformat": 4,
 "nbformat_minor": 2
}
